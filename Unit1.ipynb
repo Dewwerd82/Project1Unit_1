{
 "cells": [
  {
   "cell_type": "code",
   "execution_count": 5,
   "metadata": {
    "_cell_guid": "b1076dfc-b9ad-4769-8c92-a6c4dae69d19",
    "_uuid": "8f2839f25d086af736a60e9eeb907d3b93b6e0e5",
    "colab": {},
    "colab_type": "code",
    "id": "U2D2gTdJVp90"
   },
   "outputs": [],
   "source": [
    "import numpy as np\n",
    "import pandas as pd\n",
    "import seaborn as sns\n",
    "import matplotlib.pyplot as plt\n",
    "from collections import Counter\n",
    "import math\n",
    "import collections\n",
    "import itertools"
   ]
  },
  {
   "cell_type": "code",
   "execution_count": 6,
   "metadata": {
    "_cell_guid": "79c7e3d0-c299-4dcb-8224-4455121ee9b0",
    "_uuid": "d629ff2d2480ee46fbb7e2d37f6b5fab8052498a",
    "colab": {},
    "colab_type": "code",
    "id": "oyGfxL3eVp9-"
   },
   "outputs": [
    {
     "data": {
      "text/html": [
       "<div>\n",
       "<style scoped>\n",
       "    .dataframe tbody tr th:only-of-type {\n",
       "        vertical-align: middle;\n",
       "    }\n",
       "\n",
       "    .dataframe tbody tr th {\n",
       "        vertical-align: top;\n",
       "    }\n",
       "\n",
       "    .dataframe thead th {\n",
       "        text-align: right;\n",
       "    }\n",
       "</style>\n",
       "<table border=\"1\" class=\"dataframe\">\n",
       "  <thead>\n",
       "    <tr style=\"text-align: right;\">\n",
       "      <th></th>\n",
       "      <th>imdb_id</th>\n",
       "      <th>budget</th>\n",
       "      <th>revenue</th>\n",
       "      <th>original_title</th>\n",
       "      <th>cast</th>\n",
       "      <th>director</th>\n",
       "      <th>tagline</th>\n",
       "      <th>overview</th>\n",
       "      <th>runtime</th>\n",
       "      <th>genres</th>\n",
       "      <th>production_companies</th>\n",
       "      <th>release_date</th>\n",
       "      <th>vote_average</th>\n",
       "      <th>release_year</th>\n",
       "    </tr>\n",
       "  </thead>\n",
       "  <tbody>\n",
       "    <tr>\n",
       "      <th>131</th>\n",
       "      <td>tt1840309</td>\n",
       "      <td>85000000</td>\n",
       "      <td>288747895</td>\n",
       "      <td>Divergent</td>\n",
       "      <td>Shailene Woodley|Theo James|Kate Winslet|Miles...</td>\n",
       "      <td>Neil Burger</td>\n",
       "      <td>What makes you different makes you dangerous.</td>\n",
       "      <td>In a world divided into factions based on pers...</td>\n",
       "      <td>139</td>\n",
       "      <td>Action|Science Fiction|Thriller</td>\n",
       "      <td>Summit Entertainment|Red Wagon Entertainment</td>\n",
       "      <td>3/14/2014</td>\n",
       "      <td>6.9</td>\n",
       "      <td>2014</td>\n",
       "    </tr>\n",
       "    <tr>\n",
       "      <th>179</th>\n",
       "      <td>tt1791528</td>\n",
       "      <td>20000000</td>\n",
       "      <td>11110975</td>\n",
       "      <td>Inherent Vice</td>\n",
       "      <td>Joaquin Phoenix|Josh Brolin|Owen Wilson|Kather...</td>\n",
       "      <td>Paul Thomas Anderson</td>\n",
       "      <td>Under the paving stones, the beach!</td>\n",
       "      <td>In Los Angeles at the turn of the 1970s, drug-...</td>\n",
       "      <td>148</td>\n",
       "      <td>Comedy|Romance|Crime|Drama|Mystery</td>\n",
       "      <td>Ghoulardi Film Company|Warner Bros.</td>\n",
       "      <td>12/25/2014</td>\n",
       "      <td>6.3</td>\n",
       "      <td>2014</td>\n",
       "    </tr>\n",
       "    <tr>\n",
       "      <th>1213</th>\n",
       "      <td>tt0790636</td>\n",
       "      <td>5000000</td>\n",
       "      <td>55198285</td>\n",
       "      <td>Dallas Buyers Club</td>\n",
       "      <td>Matthew McConaughey|Jennifer Garner|Jared Leto...</td>\n",
       "      <td>Jean-Marc VallÃ©e</td>\n",
       "      <td>Sometimes it takes a hustler to change the world</td>\n",
       "      <td>Loosely based on the true-life tale of Ron Woo...</td>\n",
       "      <td>117</td>\n",
       "      <td>Drama|History</td>\n",
       "      <td>Universal Studios|Universal Pictures|Voltage P...</td>\n",
       "      <td>9/7/2013</td>\n",
       "      <td>7.8</td>\n",
       "      <td>2013</td>\n",
       "    </tr>\n",
       "    <tr>\n",
       "      <th>1612</th>\n",
       "      <td>tt0296572</td>\n",
       "      <td>105000000</td>\n",
       "      <td>115772733</td>\n",
       "      <td>The Chronicles of Riddick</td>\n",
       "      <td>Vin Diesel|Christina Cox|Colm Feore|Karl Urban...</td>\n",
       "      <td>David Twohy</td>\n",
       "      <td>All the power in the universe can't change des...</td>\n",
       "      <td>Five years after the events in sci-fi film Pit...</td>\n",
       "      <td>119</td>\n",
       "      <td>Adventure|Action|Thriller|Science Fiction</td>\n",
       "      <td>Universal Pictures|One Race Productions|Primal...</td>\n",
       "      <td>6/11/2004</td>\n",
       "      <td>6.2</td>\n",
       "      <td>2004</td>\n",
       "    </tr>\n",
       "    <tr>\n",
       "      <th>874</th>\n",
       "      <td>tt0275847</td>\n",
       "      <td>80000000</td>\n",
       "      <td>145771527</td>\n",
       "      <td>Lilo &amp; Stitch</td>\n",
       "      <td>Chris Sanders|Daveigh Chase|Tia Carrere|David ...</td>\n",
       "      <td>Dean DeBlois|Chris Sanders</td>\n",
       "      <td>He's coming to our galaxy.</td>\n",
       "      <td>A lonely Hawaiian girl named Lilo is being rai...</td>\n",
       "      <td>85</td>\n",
       "      <td>Animation</td>\n",
       "      <td>Walt Disney Pictures|Walt Disney Feature Anima...</td>\n",
       "      <td>6/21/2002</td>\n",
       "      <td>6.9</td>\n",
       "      <td>2002</td>\n",
       "    </tr>\n",
       "  </tbody>\n",
       "</table>\n",
       "</div>"
      ],
      "text/plain": [
       "        imdb_id     budget    revenue             original_title  \\\n",
       "131   tt1840309   85000000  288747895                  Divergent   \n",
       "179   tt1791528   20000000   11110975              Inherent Vice   \n",
       "1213  tt0790636    5000000   55198285         Dallas Buyers Club   \n",
       "1612  tt0296572  105000000  115772733  The Chronicles of Riddick   \n",
       "874   tt0275847   80000000  145771527              Lilo & Stitch   \n",
       "\n",
       "                                                   cast  \\\n",
       "131   Shailene Woodley|Theo James|Kate Winslet|Miles...   \n",
       "179   Joaquin Phoenix|Josh Brolin|Owen Wilson|Kather...   \n",
       "1213  Matthew McConaughey|Jennifer Garner|Jared Leto...   \n",
       "1612  Vin Diesel|Christina Cox|Colm Feore|Karl Urban...   \n",
       "874   Chris Sanders|Daveigh Chase|Tia Carrere|David ...   \n",
       "\n",
       "                        director  \\\n",
       "131                  Neil Burger   \n",
       "179         Paul Thomas Anderson   \n",
       "1213           Jean-Marc VallÃ©e   \n",
       "1612                 David Twohy   \n",
       "874   Dean DeBlois|Chris Sanders   \n",
       "\n",
       "                                                tagline  \\\n",
       "131       What makes you different makes you dangerous.   \n",
       "179                 Under the paving stones, the beach!   \n",
       "1213   Sometimes it takes a hustler to change the world   \n",
       "1612  All the power in the universe can't change des...   \n",
       "874                          He's coming to our galaxy.   \n",
       "\n",
       "                                               overview  runtime  \\\n",
       "131   In a world divided into factions based on pers...      139   \n",
       "179   In Los Angeles at the turn of the 1970s, drug-...      148   \n",
       "1213  Loosely based on the true-life tale of Ron Woo...      117   \n",
       "1612  Five years after the events in sci-fi film Pit...      119   \n",
       "874   A lonely Hawaiian girl named Lilo is being rai...       85   \n",
       "\n",
       "                                         genres  \\\n",
       "131             Action|Science Fiction|Thriller   \n",
       "179          Comedy|Romance|Crime|Drama|Mystery   \n",
       "1213                              Drama|History   \n",
       "1612  Adventure|Action|Thriller|Science Fiction   \n",
       "874                                   Animation   \n",
       "\n",
       "                                   production_companies release_date  \\\n",
       "131        Summit Entertainment|Red Wagon Entertainment    3/14/2014   \n",
       "179                 Ghoulardi Film Company|Warner Bros.   12/25/2014   \n",
       "1213  Universal Studios|Universal Pictures|Voltage P...     9/7/2013   \n",
       "1612  Universal Pictures|One Race Productions|Primal...    6/11/2004   \n",
       "874   Walt Disney Pictures|Walt Disney Feature Anima...    6/21/2002   \n",
       "\n",
       "      vote_average  release_year  \n",
       "131            6.9          2014  \n",
       "179            6.3          2014  \n",
       "1213           7.8          2013  \n",
       "1612           6.2          2004  \n",
       "874            6.9          2002  "
      ]
     },
     "execution_count": 6,
     "metadata": {},
     "output_type": "execute_result"
    }
   ],
   "source": [
    "data = pd.read_csv('movie_bd_v5.xls')\n",
    "data.sample(5)"
   ]
  },
  {
   "cell_type": "code",
   "execution_count": 72,
   "metadata": {
    "colab": {},
    "colab_type": "code",
    "id": "CoYUnagMVp-C"
   },
   "outputs": [
    {
     "data": {
      "text/html": [
       "<div>\n",
       "<style scoped>\n",
       "    .dataframe tbody tr th:only-of-type {\n",
       "        vertical-align: middle;\n",
       "    }\n",
       "\n",
       "    .dataframe tbody tr th {\n",
       "        vertical-align: top;\n",
       "    }\n",
       "\n",
       "    .dataframe thead th {\n",
       "        text-align: right;\n",
       "    }\n",
       "</style>\n",
       "<table border=\"1\" class=\"dataframe\">\n",
       "  <thead>\n",
       "    <tr style=\"text-align: right;\">\n",
       "      <th></th>\n",
       "      <th>budget</th>\n",
       "      <th>revenue</th>\n",
       "      <th>runtime</th>\n",
       "      <th>vote_average</th>\n",
       "      <th>release_year</th>\n",
       "      <th>profit</th>\n",
       "      <th>lenfilm</th>\n",
       "    </tr>\n",
       "  </thead>\n",
       "  <tbody>\n",
       "    <tr>\n",
       "      <th>count</th>\n",
       "      <td>1.889000e+03</td>\n",
       "      <td>1.889000e+03</td>\n",
       "      <td>1889.000000</td>\n",
       "      <td>1889.000000</td>\n",
       "      <td>1889.000000</td>\n",
       "      <td>1.889000e+03</td>\n",
       "      <td>1889.000000</td>\n",
       "    </tr>\n",
       "    <tr>\n",
       "      <th>mean</th>\n",
       "      <td>5.431083e+07</td>\n",
       "      <td>1.553653e+08</td>\n",
       "      <td>109.658549</td>\n",
       "      <td>6.140762</td>\n",
       "      <td>2007.860773</td>\n",
       "      <td>1.010545e+08</td>\n",
       "      <td>15.037057</td>\n",
       "    </tr>\n",
       "    <tr>\n",
       "      <th>std</th>\n",
       "      <td>4.858721e+07</td>\n",
       "      <td>2.146698e+08</td>\n",
       "      <td>18.017041</td>\n",
       "      <td>0.764763</td>\n",
       "      <td>4.468841</td>\n",
       "      <td>1.830733e+08</td>\n",
       "      <td>8.552660</td>\n",
       "    </tr>\n",
       "    <tr>\n",
       "      <th>min</th>\n",
       "      <td>5.000000e+06</td>\n",
       "      <td>2.033165e+06</td>\n",
       "      <td>63.000000</td>\n",
       "      <td>3.300000</td>\n",
       "      <td>2000.000000</td>\n",
       "      <td>-1.657101e+08</td>\n",
       "      <td>1.000000</td>\n",
       "    </tr>\n",
       "    <tr>\n",
       "      <th>25%</th>\n",
       "      <td>2.000000e+07</td>\n",
       "      <td>3.456058e+07</td>\n",
       "      <td>97.000000</td>\n",
       "      <td>5.600000</td>\n",
       "      <td>2004.000000</td>\n",
       "      <td>5.000000e+06</td>\n",
       "      <td>9.000000</td>\n",
       "    </tr>\n",
       "    <tr>\n",
       "      <th>50%</th>\n",
       "      <td>3.800000e+07</td>\n",
       "      <td>8.361541e+07</td>\n",
       "      <td>107.000000</td>\n",
       "      <td>6.100000</td>\n",
       "      <td>2008.000000</td>\n",
       "      <td>4.400041e+07</td>\n",
       "      <td>13.000000</td>\n",
       "    </tr>\n",
       "    <tr>\n",
       "      <th>75%</th>\n",
       "      <td>7.200000e+07</td>\n",
       "      <td>1.782626e+08</td>\n",
       "      <td>120.000000</td>\n",
       "      <td>6.600000</td>\n",
       "      <td>2012.000000</td>\n",
       "      <td>1.201842e+08</td>\n",
       "      <td>18.000000</td>\n",
       "    </tr>\n",
       "    <tr>\n",
       "      <th>max</th>\n",
       "      <td>3.800000e+08</td>\n",
       "      <td>2.781506e+09</td>\n",
       "      <td>214.000000</td>\n",
       "      <td>8.100000</td>\n",
       "      <td>2015.000000</td>\n",
       "      <td>2.544506e+09</td>\n",
       "      <td>83.000000</td>\n",
       "    </tr>\n",
       "  </tbody>\n",
       "</table>\n",
       "</div>"
      ],
      "text/plain": [
       "             budget       revenue      runtime  vote_average  release_year  \\\n",
       "count  1.889000e+03  1.889000e+03  1889.000000   1889.000000   1889.000000   \n",
       "mean   5.431083e+07  1.553653e+08   109.658549      6.140762   2007.860773   \n",
       "std    4.858721e+07  2.146698e+08    18.017041      0.764763      4.468841   \n",
       "min    5.000000e+06  2.033165e+06    63.000000      3.300000   2000.000000   \n",
       "25%    2.000000e+07  3.456058e+07    97.000000      5.600000   2004.000000   \n",
       "50%    3.800000e+07  8.361541e+07   107.000000      6.100000   2008.000000   \n",
       "75%    7.200000e+07  1.782626e+08   120.000000      6.600000   2012.000000   \n",
       "max    3.800000e+08  2.781506e+09   214.000000      8.100000   2015.000000   \n",
       "\n",
       "             profit      lenfilm  \n",
       "count  1.889000e+03  1889.000000  \n",
       "mean   1.010545e+08    15.037057  \n",
       "std    1.830733e+08     8.552660  \n",
       "min   -1.657101e+08     1.000000  \n",
       "25%    5.000000e+06     9.000000  \n",
       "50%    4.400041e+07    13.000000  \n",
       "75%    1.201842e+08    18.000000  \n",
       "max    2.544506e+09    83.000000  "
      ]
     },
     "execution_count": 72,
     "metadata": {},
     "output_type": "execute_result"
    }
   ],
   "source": [
    "data.describe()"
   ]
  },
  {
   "cell_type": "markdown",
   "metadata": {
    "colab_type": "text",
    "id": "DTIt7ezGVp-G"
   },
   "source": [
    "# Предобработка"
   ]
  },
  {
   "cell_type": "code",
   "execution_count": 8,
   "metadata": {
    "colab": {},
    "colab_type": "code",
    "id": "jNb40DwKVp-H"
   },
   "outputs": [],
   "source": [
    "answers = {} # создадим словарь для ответов\n",
    "\n",
    "# тут другие ваши предобработки колонок например:\n",
    "\n",
    "#the time given in the dataset is in string format.\n",
    "#So we need to change this in datetime format\n",
    "# ..."
   ]
  },
  {
   "cell_type": "markdown",
   "metadata": {
    "colab_type": "text",
    "id": "YxZaH-nPVp-L"
   },
   "source": [
    "# 1. У какого фильма из списка самый большой бюджет?"
   ]
  },
  {
   "cell_type": "markdown",
   "metadata": {
    "colab_type": "text",
    "id": "Nd-G5gX6Vp-M"
   },
   "source": [
    "Использовать варианты ответов в коде решения запрещено.    \n",
    "Вы думаете и в жизни у вас будут варианты ответов?)"
   ]
  },
  {
   "cell_type": "code",
   "execution_count": 9,
   "metadata": {
    "colab": {},
    "colab_type": "code",
    "id": "uVnXAY5RVp-O"
   },
   "outputs": [],
   "source": [
    "# в словарь вставляем номер вопроса и ваш ответ на него\n",
    "# запишите свой вариант ответа\n",
    "answers['1'] = '723. Pirates of the Caribbean: On Stranger Tides (tt1298650)(380000000)'\n",
    "# если ответили верно, можете добавить комментарий со значком \"+\""
   ]
  },
  {
   "cell_type": "code",
   "execution_count": 10,
   "metadata": {
    "colab": {},
    "colab_type": "code",
    "id": "dZwb3m28Vp-S"
   },
   "outputs": [
    {
     "data": {
      "text/plain": [
       "imdb_id                                                         tt1298650\n",
       "budget                                                          380000000\n",
       "revenue                                                        1021683000\n",
       "original_title                Pirates of the Caribbean: On Stranger Tides\n",
       "cast                    Johnny Depp|PenÃ©lope Cruz|Geoffrey Rush|Ian M...\n",
       "director                                                     Rob Marshall\n",
       "tagline                                       Live Forever Or Die Trying.\n",
       "overview                Captain Jack Sparrow crosses paths with a woma...\n",
       "runtime                                                               136\n",
       "genres                                           Adventure|Action|Fantasy\n",
       "production_companies    Walt Disney Pictures|Jerry Bruckheimer Films|M...\n",
       "release_date                                                    5/11/2011\n",
       "vote_average                                                          6.3\n",
       "release_year                                                         2011\n",
       "Name: 723, dtype: object"
      ]
     },
     "execution_count": 10,
     "metadata": {},
     "output_type": "execute_result"
    }
   ],
   "source": [
    "# тут пишем ваш код для решения данного вопроса:\n",
    "data.budget.max()\n",
    "data[(data.budget == data.budget.max())].imdb_id\n",
    "data.loc[(data.index[723])]"
   ]
  },
  {
   "cell_type": "markdown",
   "metadata": {
    "colab_type": "text",
    "id": "K7L3nbRXVp-X"
   },
   "source": [
    "ВАРИАНТ 2"
   ]
  },
  {
   "cell_type": "code",
   "execution_count": 0,
   "metadata": {
    "colab": {},
    "colab_type": "code",
    "id": "OGaoQI7rVp-X"
   },
   "outputs": [],
   "source": [
    "# можно добавлять разные варианты решения"
   ]
  },
  {
   "cell_type": "markdown",
   "metadata": {
    "colab_type": "text",
    "id": "FNRbbI3vVp-c"
   },
   "source": [
    "# 2. Какой из фильмов самый длительный (в минутах)?"
   ]
  },
  {
   "cell_type": "code",
   "execution_count": 11,
   "metadata": {
    "colab": {},
    "colab_type": "code",
    "id": "vHAoEXNTVp-d"
   },
   "outputs": [],
   "source": [
    "# думаю логику работы с этим словарем вы уже поняли, \n",
    "# по этому не буду больше его дублировать\n",
    "answers['2'] = '1157. Gods and Generals (tt0279111)(214)'"
   ]
  },
  {
   "cell_type": "code",
   "execution_count": 12,
   "metadata": {
    "colab": {},
    "colab_type": "code",
    "id": "ot-VX2XrVp-g"
   },
   "outputs": [
    {
     "data": {
      "text/plain": [
       "imdb_id                                                         tt0279111\n",
       "budget                                                           56000000\n",
       "revenue                                                          12923936\n",
       "original_title                                          Gods and Generals\n",
       "cast                    Stephen Lang|Jeff Daniels|Robert Duvall|Kevin ...\n",
       "director                                                Ronald F. Maxwell\n",
       "tagline                               The nations heart was touched by...\n",
       "overview                The film centers mostly around the personal an...\n",
       "runtime                                                               214\n",
       "genres                                                  Drama|History|War\n",
       "production_companies                   Turner Pictures|Antietam Filmworks\n",
       "release_date                                                    2/21/2003\n",
       "vote_average                                                          5.8\n",
       "release_year                                                         2003\n",
       "Name: 1157, dtype: object"
      ]
     },
     "execution_count": 12,
     "metadata": {},
     "output_type": "execute_result"
    }
   ],
   "source": [
    "data[(data.runtime == data.runtime.max())].imdb_id\n",
    "data.loc[(data.index[1157])]"
   ]
  },
  {
   "cell_type": "markdown",
   "metadata": {
    "colab_type": "text",
    "id": "bapLlpW8Vp-k"
   },
   "source": [
    "# 3. Какой из фильмов самый короткий (в минутах)?\n",
    "\n",
    "\n",
    "\n"
   ]
  },
  {
   "cell_type": "code",
   "execution_count": 13,
   "metadata": {
    "colab": {},
    "colab_type": "code",
    "id": "YBxaSHuAVp-l"
   },
   "outputs": [
    {
     "data": {
      "text/plain": [
       "imdb_id                                                         tt1449283\n",
       "budget                                                           30000000\n",
       "revenue                                                          14460000\n",
       "original_title                                            Winnie the Pooh\n",
       "cast                    Jim Cummings|Travis Oates|Jim Cummings|Bud Luc...\n",
       "director                                        Stephen Anderson|Don Hall\n",
       "tagline                                                          Oh Pooh.\n",
       "overview                During an ordinary day in Hundred Acre Wood, W...\n",
       "runtime                                                                63\n",
       "genres                                                   Animation|Family\n",
       "production_companies    Walt Disney Pictures|Walt Disney Animation Stu...\n",
       "release_date                                                    4/13/2011\n",
       "vote_average                                                          6.8\n",
       "release_year                                                         2011\n",
       "Name: 768, dtype: object"
      ]
     },
     "execution_count": 13,
     "metadata": {},
     "output_type": "execute_result"
    }
   ],
   "source": [
    "answers['3'] = '768. Winnie the Pooh (tt1449283)(63)'\n",
    "data[(data.runtime == data.runtime.min())].imdb_id\n",
    "data.loc[(data.index[768])]"
   ]
  },
  {
   "cell_type": "markdown",
   "metadata": {
    "colab_type": "text",
    "id": "TfQbxbfNVp-p"
   },
   "source": [
    "# 4. Какова средняя длительность фильмов?\n"
   ]
  },
  {
   "cell_type": "code",
   "execution_count": 14,
   "metadata": {
    "colab": {},
    "colab_type": "code",
    "id": "5K6dKZYVVp-q"
   },
   "outputs": [
    {
     "data": {
      "text/plain": [
       "109.6585494970884"
      ]
     },
     "execution_count": 14,
     "metadata": {},
     "output_type": "execute_result"
    }
   ],
   "source": [
    "answers['4'] = '109.6585494970884'\n",
    "data.runtime.mean()"
   ]
  },
  {
   "cell_type": "markdown",
   "metadata": {
    "colab_type": "text",
    "id": "r5TvbnT_Vp-u"
   },
   "source": [
    "# 5. Каково медианное значение длительности фильмов? "
   ]
  },
  {
   "cell_type": "code",
   "execution_count": 15,
   "metadata": {
    "colab": {},
    "colab_type": "code",
    "id": "iBROplKnVp-v"
   },
   "outputs": [
    {
     "data": {
      "text/plain": [
       "107.0"
      ]
     },
     "execution_count": 15,
     "metadata": {},
     "output_type": "execute_result"
    }
   ],
   "source": [
    "answers['5'] = '107.0'\n",
    "data.runtime.median()"
   ]
  },
  {
   "cell_type": "markdown",
   "metadata": {
    "colab_type": "text",
    "id": "39P-deDSVp-y"
   },
   "source": [
    "# 6. Какой самый прибыльный фильм?\n",
    "#### Внимание! Здесь и далее под «прибылью» или «убытками» понимается разность между сборами и бюджетом фильма. (прибыль = сборы - бюджет) в нашем датасете это будет (profit = revenue - budget) "
   ]
  },
  {
   "cell_type": "code",
   "execution_count": 45,
   "metadata": {
    "colab": {},
    "colab_type": "code",
    "id": "UYZh4T9WVp-y"
   },
   "outputs": [
    {
     "data": {
      "text/plain": [
       "imdb_id                                                         tt0499549\n",
       "budget                                                          237000000\n",
       "revenue                                                        2781505847\n",
       "original_title                                                     Avatar\n",
       "cast                    Sam Worthington|Zoe Saldana|Sigourney Weaver|S...\n",
       "director                                                    James Cameron\n",
       "tagline                                       Enter the World of Pandora.\n",
       "overview                In the 22nd century, a paraplegic Marine is di...\n",
       "runtime                                                               162\n",
       "genres                           Action|Adventure|Fantasy|Science Fiction\n",
       "production_companies    Ingenious Film Partners|Twentieth Century Fox ...\n",
       "release_date                                                   12/10/2009\n",
       "vote_average                                                          7.1\n",
       "release_year                                                         2009\n",
       "profit                                                         2544505847\n",
       "Name: 239, dtype: object"
      ]
     },
     "execution_count": 45,
     "metadata": {},
     "output_type": "execute_result"
    }
   ],
   "source": [
    "# лучше код получения столбца profit вынести в Предобработку что в начале\n",
    "answers['6'] = '239. Avatar (tt0499549)(2544505847)'\n",
    "data['profit'] = data.revenue - data.budget\n",
    "data[(data.profit == data.profit.max())].imdb_id\n",
    "data.loc[(data.index[239])]"
   ]
  },
  {
   "cell_type": "markdown",
   "metadata": {
    "colab_type": "text",
    "id": "M99JmIX4Vp-2"
   },
   "source": [
    "# 7. Какой фильм самый убыточный? "
   ]
  },
  {
   "cell_type": "code",
   "execution_count": 17,
   "metadata": {
    "colab": {},
    "colab_type": "code",
    "id": "w-D2m4XPVp-3"
   },
   "outputs": [
    {
     "data": {
      "text/plain": [
       "imdb_id                                                         tt1210819\n",
       "budget                                                          255000000\n",
       "revenue                                                          89289910\n",
       "original_title                                            The Lone Ranger\n",
       "cast                    Johnny Depp|Armie Hammer|William Fichtner|Hele...\n",
       "director                                                   Gore Verbinski\n",
       "tagline                                           Never Take Off the Mask\n",
       "overview                The Texas Rangers chase down a gang of outlaws...\n",
       "runtime                                                               149\n",
       "genres                                           Action|Adventure|Western\n",
       "production_companies    Walt Disney Pictures|Jerry Bruckheimer Films|I...\n",
       "release_date                                                     7/3/2013\n",
       "vote_average                                                            6\n",
       "release_year                                                         2013\n",
       "profit                                                         -165710090\n",
       "Name: 1245, dtype: object"
      ]
     },
     "execution_count": 17,
     "metadata": {},
     "output_type": "execute_result"
    }
   ],
   "source": [
    "answers['7'] = '1245. The Lone Ranger (tt1210819)(-165710090)'\n",
    "data[(data.profit == data.profit.min())].imdb_id\n",
    "data.loc[(data.index[1245])]"
   ]
  },
  {
   "cell_type": "markdown",
   "metadata": {
    "colab_type": "text",
    "id": "wEOM5ERVVp-6"
   },
   "source": [
    "# 8. У скольких фильмов из датасета объем сборов оказался выше бюджета?"
   ]
  },
  {
   "cell_type": "code",
   "execution_count": 18,
   "metadata": {
    "colab": {},
    "colab_type": "code",
    "id": "y00_7HD6Vp-7"
   },
   "outputs": [
    {
     "data": {
      "text/plain": [
       "imdb_id                 1478\n",
       "budget                  1478\n",
       "revenue                 1478\n",
       "original_title          1478\n",
       "cast                    1478\n",
       "director                1478\n",
       "tagline                 1478\n",
       "overview                1478\n",
       "runtime                 1478\n",
       "genres                  1478\n",
       "production_companies    1478\n",
       "release_date            1478\n",
       "vote_average            1478\n",
       "release_year            1478\n",
       "profit                  1478\n",
       "dtype: int64"
      ]
     },
     "execution_count": 18,
     "metadata": {},
     "output_type": "execute_result"
    }
   ],
   "source": [
    "answers['8'] = '1478'\n",
    "data[(data.revenue > data.budget)].count()"
   ]
  },
  {
   "cell_type": "markdown",
   "metadata": {
    "colab_type": "text",
    "id": "xhpspA9KVp_A"
   },
   "source": [
    "# 9. Какой фильм оказался самым кассовым в 2008 году?"
   ]
  },
  {
   "cell_type": "code",
   "execution_count": 19,
   "metadata": {
    "colab": {},
    "colab_type": "code",
    "id": "MoUyQr9RVp_B"
   },
   "outputs": [
    {
     "data": {
      "text/html": [
       "<div>\n",
       "<style scoped>\n",
       "    .dataframe tbody tr th:only-of-type {\n",
       "        vertical-align: middle;\n",
       "    }\n",
       "\n",
       "    .dataframe tbody tr th {\n",
       "        vertical-align: top;\n",
       "    }\n",
       "\n",
       "    .dataframe thead th {\n",
       "        text-align: right;\n",
       "    }\n",
       "</style>\n",
       "<table border=\"1\" class=\"dataframe\">\n",
       "  <thead>\n",
       "    <tr style=\"text-align: right;\">\n",
       "      <th></th>\n",
       "      <th>imdb_id</th>\n",
       "      <th>budget</th>\n",
       "      <th>revenue</th>\n",
       "      <th>original_title</th>\n",
       "      <th>cast</th>\n",
       "      <th>director</th>\n",
       "      <th>tagline</th>\n",
       "      <th>overview</th>\n",
       "      <th>runtime</th>\n",
       "      <th>genres</th>\n",
       "      <th>production_companies</th>\n",
       "      <th>release_date</th>\n",
       "      <th>vote_average</th>\n",
       "      <th>release_year</th>\n",
       "      <th>profit</th>\n",
       "    </tr>\n",
       "  </thead>\n",
       "  <tbody>\n",
       "    <tr>\n",
       "      <th>599</th>\n",
       "      <td>tt0468569</td>\n",
       "      <td>185000000</td>\n",
       "      <td>1001921825</td>\n",
       "      <td>The Dark Knight</td>\n",
       "      <td>Christian Bale|Michael Caine|Heath Ledger|Aaro...</td>\n",
       "      <td>Christopher Nolan</td>\n",
       "      <td>Why So Serious?</td>\n",
       "      <td>Batman raises the stakes in his war on crime. ...</td>\n",
       "      <td>152</td>\n",
       "      <td>Drama|Action|Crime|Thriller</td>\n",
       "      <td>DC Comics|Legendary Pictures|Warner Bros.|Syncopy</td>\n",
       "      <td>7/16/2008</td>\n",
       "      <td>8.1</td>\n",
       "      <td>2008</td>\n",
       "      <td>816921825</td>\n",
       "    </tr>\n",
       "  </tbody>\n",
       "</table>\n",
       "</div>"
      ],
      "text/plain": [
       "       imdb_id     budget     revenue   original_title  \\\n",
       "599  tt0468569  185000000  1001921825  The Dark Knight   \n",
       "\n",
       "                                                  cast           director  \\\n",
       "599  Christian Bale|Michael Caine|Heath Ledger|Aaro...  Christopher Nolan   \n",
       "\n",
       "             tagline                                           overview  \\\n",
       "599  Why So Serious?  Batman raises the stakes in his war on crime. ...   \n",
       "\n",
       "     runtime                       genres  \\\n",
       "599      152  Drama|Action|Crime|Thriller   \n",
       "\n",
       "                                  production_companies release_date  \\\n",
       "599  DC Comics|Legendary Pictures|Warner Bros.|Syncopy    7/16/2008   \n",
       "\n",
       "     vote_average  release_year     profit  \n",
       "599           8.1          2008  816921825  "
      ]
     },
     "execution_count": 19,
     "metadata": {},
     "output_type": "execute_result"
    }
   ],
   "source": [
    "#data[(data.revenue == data.revenue.max())&(data.release_year == 2008)].imdb_id Не работает почему то!!!\n",
    "answers['9'] = '599.The Dark Knight(tt0468569)'\n",
    "data[(data.release_year == 2008)].revenue.max()\n",
    "data.query('revenue in [\"1001921825\"] & release_year == \"2008\"')"
   ]
  },
  {
   "cell_type": "markdown",
   "metadata": {
    "colab_type": "text",
    "id": "Zi4hDKidVp_F"
   },
   "source": [
    "# 10. Самый убыточный фильм за период с 2012 по 2014 г. (включительно)?\n"
   ]
  },
  {
   "cell_type": "code",
   "execution_count": 20,
   "metadata": {
    "colab": {},
    "colab_type": "code",
    "id": "XqyRmufJVp_F"
   },
   "outputs": [
    {
     "data": {
      "text/html": [
       "<div>\n",
       "<style scoped>\n",
       "    .dataframe tbody tr th:only-of-type {\n",
       "        vertical-align: middle;\n",
       "    }\n",
       "\n",
       "    .dataframe tbody tr th {\n",
       "        vertical-align: top;\n",
       "    }\n",
       "\n",
       "    .dataframe thead th {\n",
       "        text-align: right;\n",
       "    }\n",
       "</style>\n",
       "<table border=\"1\" class=\"dataframe\">\n",
       "  <thead>\n",
       "    <tr style=\"text-align: right;\">\n",
       "      <th></th>\n",
       "      <th>imdb_id</th>\n",
       "      <th>budget</th>\n",
       "      <th>revenue</th>\n",
       "      <th>original_title</th>\n",
       "      <th>cast</th>\n",
       "      <th>director</th>\n",
       "      <th>tagline</th>\n",
       "      <th>overview</th>\n",
       "      <th>runtime</th>\n",
       "      <th>genres</th>\n",
       "      <th>production_companies</th>\n",
       "      <th>release_date</th>\n",
       "      <th>vote_average</th>\n",
       "      <th>release_year</th>\n",
       "      <th>profit</th>\n",
       "    </tr>\n",
       "  </thead>\n",
       "  <tbody>\n",
       "    <tr>\n",
       "      <th>1245</th>\n",
       "      <td>tt1210819</td>\n",
       "      <td>255000000</td>\n",
       "      <td>89289910</td>\n",
       "      <td>The Lone Ranger</td>\n",
       "      <td>Johnny Depp|Armie Hammer|William Fichtner|Hele...</td>\n",
       "      <td>Gore Verbinski</td>\n",
       "      <td>Never Take Off the Mask</td>\n",
       "      <td>The Texas Rangers chase down a gang of outlaws...</td>\n",
       "      <td>149</td>\n",
       "      <td>Action|Adventure|Western</td>\n",
       "      <td>Walt Disney Pictures|Jerry Bruckheimer Films|I...</td>\n",
       "      <td>7/3/2013</td>\n",
       "      <td>6.0</td>\n",
       "      <td>2013</td>\n",
       "      <td>-165710090</td>\n",
       "    </tr>\n",
       "  </tbody>\n",
       "</table>\n",
       "</div>"
      ],
      "text/plain": [
       "        imdb_id     budget   revenue   original_title  \\\n",
       "1245  tt1210819  255000000  89289910  The Lone Ranger   \n",
       "\n",
       "                                                   cast        director  \\\n",
       "1245  Johnny Depp|Armie Hammer|William Fichtner|Hele...  Gore Verbinski   \n",
       "\n",
       "                      tagline  \\\n",
       "1245  Never Take Off the Mask   \n",
       "\n",
       "                                               overview  runtime  \\\n",
       "1245  The Texas Rangers chase down a gang of outlaws...      149   \n",
       "\n",
       "                        genres  \\\n",
       "1245  Action|Adventure|Western   \n",
       "\n",
       "                                   production_companies release_date  \\\n",
       "1245  Walt Disney Pictures|Jerry Bruckheimer Films|I...     7/3/2013   \n",
       "\n",
       "      vote_average  release_year     profit  \n",
       "1245           6.0          2013 -165710090  "
      ]
     },
     "execution_count": 20,
     "metadata": {},
     "output_type": "execute_result"
    }
   ],
   "source": [
    "answers['10'] = '1245.The Lone Ranger(tt1210819)'\n",
    "data[(data.release_year >= 2012)&(data.release_year <= 2014)].profit.min()\n",
    "data.query('profit in [\"-165710090\"]')"
   ]
  },
  {
   "cell_type": "markdown",
   "metadata": {
    "colab_type": "text",
    "id": "EA7Sa9dkVp_I"
   },
   "source": [
    "# 11. Какого жанра фильмов больше всего?"
   ]
  },
  {
   "cell_type": "code",
   "execution_count": 21,
   "metadata": {
    "colab": {},
    "colab_type": "code",
    "id": "zsJAwJ8QVp_J"
   },
   "outputs": [],
   "source": [
    "# эту задачу тоже можно решать разными подходами, попробуй реализовать разные варианты\n",
    "# если будешь добавлять функцию - выноси ее в предобработку что в начале"
   ]
  },
  {
   "cell_type": "markdown",
   "metadata": {
    "colab_type": "text",
    "id": "Ax6g2C8SVp_M"
   },
   "source": [
    "ВАРИАНТ 2"
   ]
  },
  {
   "cell_type": "code",
   "execution_count": 22,
   "metadata": {
    "colab": {},
    "colab_type": "code",
    "id": "otO3SbrSVp_N"
   },
   "outputs": [
    {
     "name": "stdout",
     "output_type": "stream",
     "text": [
      "Итого:\n",
      "Action:=   582\n",
      "Adventure:=  415\n",
      "Science Fiction:=  248\n",
      "Thriller:=  596\n",
      "Western:=  19\n",
      "Drama:=  782\n",
      "Comedy:=  683\n",
      "Animation:=  139\n",
      "Romance:=  308\n",
      "Mystery:=  168\n",
      "Horror:=  176\n",
      "Foreign:=  2\n",
      "Family:=  260\n",
      "War:=  58\n",
      "History:=  62\n"
     ]
    }
   ],
   "source": [
    "answers['11'] = 'Drama(782)'\n",
    "data['genres'] = data.genres.str.split('|',6)\n",
    "def search() :\n",
    "    ac = 0    \n",
    "    ad = 0\n",
    "    sc = 0\n",
    "    th = 0\n",
    "    we = 0\n",
    "    dr = 0\n",
    "    co = 0\n",
    "    an = 0\n",
    "    ro = 0\n",
    "    my = 0\n",
    "    ho = 0\n",
    "    fo = 0\n",
    "    fa = 0\n",
    "    wa = 0\n",
    "    hi = 0\n",
    "    for i in range (len(data['genres'])):\n",
    "        for j in range (len(data['genres'][i])):\n",
    "            if 'Action' == data['genres'][i][j]:\n",
    "                ac = ac + 1\n",
    "            elif 'Adventure' == data['genres'][i][j]:\n",
    "                ad = ad + 1\n",
    "            elif 'Science Fiction' == data['genres'][i][j]:\n",
    "                sc = sc + 1  \n",
    "            elif 'Thriller' == data['genres'][i][j]:\n",
    "                th = th + 1    \n",
    "            elif 'Western' == data['genres'][i][j]:\n",
    "                we = we + 1    \n",
    "            elif 'Drama' == data['genres'][i][j]:\n",
    "                dr = dr + 1 \n",
    "            elif 'Comedy' == data['genres'][i][j]:\n",
    "                co = co + 1   \n",
    "            elif 'Animation' == data['genres'][i][j]:\n",
    "                an = an + 1 \n",
    "            elif 'Romance' == data['genres'][i][j]:\n",
    "                ro = ro + 1  \n",
    "            elif 'Mystery' == data['genres'][i][j]:\n",
    "                my = my + 1   \n",
    "            elif 'Horror' == data['genres'][i][j]:\n",
    "                ho = ho + 1 \n",
    "            elif 'Foreign' == data['genres'][i][j]:\n",
    "                fo = fo + 1  \n",
    "            elif 'Family' == data['genres'][i][j]:\n",
    "                fa = fa + 1 \n",
    "            elif 'War' == data['genres'][i][j]:\n",
    "                wa = wa + 1  \n",
    "            elif 'History' == data['genres'][i][j]:\n",
    "                hi = hi + 1    \n",
    "    print('Итого:')\n",
    "    print('Action:=  ',ac)\n",
    "    print('Adventure:= ',ad)\n",
    "    print('Science Fiction:= ',sc)\n",
    "    print('Thriller:= ',th)\n",
    "    print('Western:= ',we)\n",
    "    print('Drama:= ',dr)\n",
    "    print('Comedy:= ',co)\n",
    "    print('Animation:= ',an)\n",
    "    print('Romance:= ',ro)\n",
    "    print('Mystery:= ',my)\n",
    "    print('Horror:= ',ho)\n",
    "    print('Foreign:= ',fo)\n",
    "    print('Family:= ',fa)\n",
    "    print('War:= ',wa)\n",
    "    print('History:= ',hi)\n",
    "search()"
   ]
  },
  {
   "cell_type": "markdown",
   "metadata": {
    "colab_type": "text",
    "id": "T9_bPWpkVp_Q"
   },
   "source": [
    "# 12. Фильмы какого жанра чаще всего становятся прибыльными? "
   ]
  },
  {
   "cell_type": "code",
   "execution_count": 23,
   "metadata": {
    "colab": {},
    "colab_type": "code",
    "id": "Tmt8MaK1Vp_R"
   },
   "outputs": [
    {
     "name": "stdout",
     "output_type": "stream",
     "text": [
      "Итого:\n",
      "Action:=   444\n",
      "Adventure:=  337\n",
      "Science Fiction:=  195\n",
      "Thriller:=  446\n",
      "Western:=  12\n",
      "Drama:=  560\n",
      "Comedy:=  551\n",
      "Animation:=  120\n",
      "Romance:=  242\n",
      "Mystery:=  119\n",
      "Horror:=  150\n",
      "Foreign:=  0\n",
      "Family:=  226\n",
      "War:=  41\n",
      "History:=  46\n"
     ]
    }
   ],
   "source": [
    "answers['12'] = 'Drama(560)'\n",
    "def searchPro() :\n",
    "    ac = 0    \n",
    "    ad = 0\n",
    "    sc = 0\n",
    "    th = 0\n",
    "    we = 0\n",
    "    dr = 0\n",
    "    co = 0\n",
    "    an = 0\n",
    "    ro = 0\n",
    "    my = 0\n",
    "    ho = 0\n",
    "    fo = 0\n",
    "    fa = 0\n",
    "    wa = 0\n",
    "    hi = 0\n",
    "    for i in range (len(data['genres'])):\n",
    "        for j in range (len(data['genres'][i])):\n",
    "            if data.profit[i] > 0:\n",
    "                if 'Action' == data['genres'][i][j]:\n",
    "                    ac = ac + 1\n",
    "                elif 'Adventure' == data['genres'][i][j]:\n",
    "                    ad = ad + 1\n",
    "                elif 'Science Fiction' == data['genres'][i][j]:\n",
    "                    sc = sc + 1  \n",
    "                elif 'Thriller' == data['genres'][i][j]:\n",
    "                    th = th + 1    \n",
    "                elif 'Western' == data['genres'][i][j]:\n",
    "                    we = we + 1    \n",
    "                elif 'Drama' == data['genres'][i][j]:\n",
    "                    dr = dr + 1 \n",
    "                elif 'Comedy' == data['genres'][i][j]:\n",
    "                    co = co + 1   \n",
    "                elif 'Animation' == data['genres'][i][j]:\n",
    "                    an = an + 1 \n",
    "                elif 'Romance' == data['genres'][i][j]:\n",
    "                    ro = ro + 1  \n",
    "                elif 'Mystery' == data['genres'][i][j]:\n",
    "                    my = my + 1   \n",
    "                elif 'Horror' == data['genres'][i][j]:\n",
    "                    ho = ho + 1 \n",
    "                elif 'Foreign' == data['genres'][i][j]:\n",
    "                    fo = fo + 1  \n",
    "                elif 'Family' == data['genres'][i][j]:\n",
    "                    fa = fa + 1 \n",
    "                elif 'War' == data['genres'][i][j]:\n",
    "                    wa = wa + 1  \n",
    "                elif 'History' == data['genres'][i][j]:\n",
    "                    hi = hi + 1    \n",
    "    print('Итого:')\n",
    "    print('Action:=  ',ac)\n",
    "    print('Adventure:= ',ad)\n",
    "    print('Science Fiction:= ',sc)\n",
    "    print('Thriller:= ',th)\n",
    "    print('Western:= ',we)\n",
    "    print('Drama:= ',dr)\n",
    "    print('Comedy:= ',co)\n",
    "    print('Animation:= ',an)\n",
    "    print('Romance:= ',ro)\n",
    "    print('Mystery:= ',my)\n",
    "    print('Horror:= ',ho)\n",
    "    print('Foreign:= ',fo)\n",
    "    print('Family:= ',fa)\n",
    "    print('War:= ',wa)\n",
    "    print('History:= ',hi)\n",
    "searchPro()"
   ]
  },
  {
   "cell_type": "markdown",
   "metadata": {
    "colab_type": "text",
    "id": "0F23bgsDVp_U"
   },
   "source": [
    "# 13. У какого режиссера самые большие суммарные кассовые сборы?"
   ]
  },
  {
   "cell_type": "code",
   "execution_count": 24,
   "metadata": {
    "colab": {},
    "colab_type": "code",
    "id": "K6Z3J8ygVp_X"
   },
   "outputs": [
    {
     "data": {
      "text/plain": [
       "director\n",
       "Peter Jackson               6490593685\n",
       "Christopher Nolan           4167548502\n",
       "David Yates                 4154295625\n",
       "Michael Bay                 3886938960\n",
       "J.J. Abrams                 3579169916\n",
       "Gore Verbinski              3426362290\n",
       "Steven Spielberg            3386700791\n",
       "Ridley Scott                3264035909\n",
       "Francis Lawrence            3179979588\n",
       "Sam Raimi                   3091066354\n",
       "Joss Whedon                 2924593677\n",
       "James Cameron               2798546718\n",
       "Tim Burton                  2493468396\n",
       "Chris Columbus              2354968952\n",
       "Sam Mendes                  2342352791\n",
       "Shawn Levy                  2218587063\n",
       "Ron Howard                  2133257991\n",
       "Steven Soderbergh           2074928588\n",
       "Roland Emmerich             2000587076\n",
       "Justin Lin                  1953947074\n",
       "Clint Eastwood              1900566334\n",
       "James Wan                   1863441367\n",
       "M. Night Shyamalan          1779548638\n",
       "Bill Condon                 1704664544\n",
       "Rob Marshall                1703605066\n",
       "Todd Phillips               1682393447\n",
       "Carlos Saldanha             1645764975\n",
       "Jon Favreau                 1603296331\n",
       "Zack Snyder                 1602937193\n",
       "Raja Gosnell                1582104000\n",
       "                               ...    \n",
       "David Barrett                  4636169\n",
       "Paul Johansson                 4627375\n",
       "Jane Campion                   4440055\n",
       "Mark Duplass|Jay Duplass       4417580\n",
       "John Landis                    4349187\n",
       "Joe Cornish                    3964682\n",
       "William Dear                   3878993\n",
       "Peter Bogdanovich              3646994\n",
       "Dito Montiel                   3639345\n",
       "Jaco Van Dormael               3547209\n",
       "RyÃ»hei Kitamura               3533227\n",
       "Rob Thomas                     3485127\n",
       "Don McKellar                   3430018\n",
       "Henry Alex Rubin               3428048\n",
       "Floria Sigismondi              2995811\n",
       "Susanne Bier                   2849142\n",
       "Liev Schreiber                 2697930\n",
       "Roland JoffÃ©                  2626800\n",
       "Dan Rush                       2614773\n",
       "David Mackenzie                2500000\n",
       "James Cox                      2466444\n",
       "Michael Cuesta                 2450846\n",
       "Guillaume Canet                2415472\n",
       "Zal Batmanglij                 2401510\n",
       "Adam Wingard                   2367161\n",
       "David MichÃ´d                  2295423\n",
       "Steven Shainberg               2281089\n",
       "Paul Schrader                  2062066\n",
       "Keanu Reeves                   2054941\n",
       "Simon Hunter                   2033165\n",
       "Name: revenue, Length: 957, dtype: int64"
      ]
     },
     "execution_count": 24,
     "metadata": {},
     "output_type": "execute_result"
    }
   ],
   "source": [
    "answers['13'] = 'Peter Jackson(6490593685)'\n",
    "\n",
    "data.groupby(['director'])\n",
    "grouped_data = data.groupby(['director'])['revenue'].sum().sort_values(ascending=False)\n",
    "grouped_data"
   ]
  },
  {
   "cell_type": "markdown",
   "metadata": {
    "colab_type": "text",
    "id": "PsYC9FgRVp_a"
   },
   "source": [
    "# 14. Какой режисер снял больше всего фильмов в стиле Action?"
   ]
  },
  {
   "cell_type": "code",
   "execution_count": 51,
   "metadata": {
    "colab": {},
    "colab_type": "code",
    "id": "wd2M-wHeVp_b"
   },
   "outputs": [
    {
     "name": "stdout",
     "output_type": "stream",
     "text": [
      "{'Colin Trevorrow': 1, 'George Miller': 1, 'J.J. Abrams': 4, 'James Wan': 2, 'Alan Taylor': 2, 'Sam Mendes': 2, 'Lana Wachowski': 4, 'Lilly Wachowski': 4, 'Chris Columbus': 1, 'Joss Whedon': 2, 'Olivier Megaton': 4, 'Peyton Reed': 2, 'Brad Bird': 3, 'Antoine Fuqua': 6, 'Brad Peyton': 2, 'Christopher McQuarrie': 1, 'Matthew Vaughn': 3, 'Wes Ball': 2, 'Neill Blomkamp': 3, 'Jaume Collet-Serra': 3, 'Breck Eisner': 3, 'Guy Ritchie': 4, 'Ilya Naishuller': 1, 'Ericson Core': 1, 'Michael Mann': 2, 'Denis Villeneuve': 1, 'Josh Trank': 1, 'Paul Feig': 2, 'Aleksander Bach': 1, 'Ron Howard': 2, 'Andy Fickman': 1, 'John Erick Dowdle': 1, 'Camille Delamarre': 2, 'Pierre Morel': 3, 'Anne Fletcher': 1, 'James Gunn': 1, 'Joe Russo': 1, 'Anthony Russo': 1, 'Chad Stahelski': 1, 'David Leitch': 1, 'Don Hall': 1, 'Chris Williams': 1, 'David Ayer': 3, 'Neil Burger': 1, 'Bryan Singer': 4, 'Luc Besson': 2, 'Jonathan Liebesman': 2, 'Michael Bay': 7, 'Matt Reeves': 2, 'Marc Webb': 2, 'Doug Liman': 3, 'Evan Goldberg': 2, 'Seth Rogen': 2, 'Clint Eastwood': 3, 'Ridley Scott': 6, 'Gareth Edwards': 1, 'Robert Stromberg': 1, 'Roger Donaldson': 2, 'Dean DeBlois': 1, 'Patrick Hughes': 1, 'Phil Lord': 3, 'Christopher Miller': 3, 'Gary Shore': 1, 'Noam Murro': 1, 'Vic Armstrong': 1, 'J.C. Chandor': 2, 'Brett Ratner': 5, 'Tim Story': 4, 'Kenneth Branagh': 2, 'JosÃ© Padilha': 1, 'George Clooney': 1, 'Paul W.S. Anderson': 7, 'Scott Waugh': 2, 'Brian A Miller': 1, 'Steven Quale': 1, 'Adam Wingard': 1, 'Renny Harlin': 4, 'James Cameron': 1, 'Quentin Tarantino': 5, 'Patrick Tatopoulos': 1, 'McG': 3, 'Zack Snyder': 5, 'Roland Emmerich': 5, 'Shane Acker': 1, 'Stephen Sommers': 3, 'Shawn Levy': 3, 'Steve Carr': 1, 'Mark Neveldine': 4, 'Brian Taylor': 4, 'Christian Alvart': 1, 'Alex Proyas': 2, 'Hoyt Yeatman': 1, 'Kevin Macdonald': 1, 'Michael Spierig': 1, 'Peter Spierig': 1, 'Paul McGuigan': 1, 'Dominic Sena': 4, 'James McTeigue': 2, 'Troy Duffy': 1, 'NimrÃ³d Antal': 2, 'Paul Weitz': 1, 'David Bowers': 1, 'Justin Lin': 4, 'Daniel Barber': 1, 'Jonathan Mostow': 3, 'Andrzej Bartkowiak': 5, 'Michael J. Bassett': 1, 'Gavin Hood': 2, 'Christopher Nolan': 4, 'Jon Favreau': 3, 'Pierre Coffin': 1, 'Chris Renaud': 1, 'Sylvester Stallone': 2, 'Joseph Kosinski': 2, 'Phillip Noyce': 1, 'Florian Henckel von Donnersmarck': 1, 'Mike Newell': 1, 'Louis Leterrier': 5, 'Jon Turteltaub': 3, 'Edgar Wright': 2, 'Tony Scott': 5, 'Joe Carnahan': 3, 'Robert Schwentke': 2, 'Robert Rodriguez': 9, 'Ethan Maniquis': 1, 'Albert Hughes': 1, 'Allen Hughes': 1, 'Tom McGrath': 1, 'M. Night Shyamalan': 3, 'Adam McKay': 1, 'Miguel Sapochnik': 1, 'James Mangold': 2, 'Andy Tennant': 1, 'Paul Greengrass': 5, 'Harald Zwart': 3, 'Jonathan Lynn': 1, 'Jimmy Hayward': 1, 'Robert Luketic': 1, 'John Luessenhop': 1, 'Kevin Smith': 1, 'Neil Marshall': 2, 'Jorma Taccone': 1, 'Brian Levant': 1, 'Stuart Beattie': 1, 'Kevin Munroe': 2, 'Peter Jackson': 5, 'Simon West': 4, 'Tim Burton': 1, 'Brian Helgeland': 1, 'John A. Davis': 1, 'Chris Nahon': 1, 'Peter Howitt': 2, 'Hironobu Sakaguchi': 1, 'Motonori Sakakibara': 1, 'John Moore': 4, 'Rod Lurie': 1, 'Lee Tamahori': 5, 'Gore Verbinski': 5, 'John Herzfeld': 1, 'Ivan Reitman': 1, 'Frank Oz': 2, 'Demian Lichtenstein': 1, 'John Carpenter': 1, 'Bobby Farrelly': 1, 'Peter Farrelly': 1, 'Rob Cohen': 5, 'Barry Levinson': 1, 'Luke Greenfield': 1, 'Les Mayfield': 1, 'Henry Selick': 1, 'Rob Pritts': 1, 'Joe Johnston': 2, 'Peter Hyams': 2, 'Ernest R. Dickerson': 1, 'DJ Pooh': 1, 'Steven Spielberg': 4, 'Marc Forster': 3, 'Eric Brevig': 1, 'Timur Bekmambetov': 2, 'Peter Berg': 5, 'Ben Stiller': 1, 'D.J. Caruso': 3, 'Jeff Wadlow': 1, 'David Gordon Green': 2, 'Lexi Alexander': 1, 'Pete Travis': 2, 'Peter Segal': 1, 'Mathieu Kassovitz': 1, 'Rob Minkoff': 1, 'Jon Avnet': 1, 'Dennis Dugan': 1, 'Edward Zwick': 3, 'Howard McCain': 1, 'Oxide Pang Chun': 1, 'Danny Pang': 1, 'Frank Miller': 2, 'Craig Mazin': 1, 'Jason Friedberg': 2, 'Aaron Seltzer': 2, 'Simon Hunter': 1, 'Nicolas Winding Refn': 1, 'Rob Marshall': 2, 'Rupert Wyatt': 1, 'Andrew Niccol': 2, 'Patrick Lussier': 1, 'Martin Campbell': 4, 'Gary McKendry': 1, 'Scott Stewart': 1, 'John Singleton': 4, 'Tarsem Singh': 1, 'Chris Gorak': 1, 'Chris Miller': 1, 'Michel Gondry': 1, 'Marcus Nispel': 2, 'Oliver Parker': 1, 'Joe Cornish': 1, 'Joe Wright': 1, 'John Michael McDonagh': 1, 'Alister Grierson': 1, 'Sean McNamara': 1, 'Ruben Fleischer': 2, 'John Whitesell': 1, 'Benny Chan': 1, 'Sam Raimi': 3, 'George Lucas': 2, 'Barry Sonnenfeld': 3, 'Corey Yuen Kwai': 1, 'Guillermo del Toro': 3, 'Andrew Davis': 2, 'Stuart Baird': 1, 'Kurt Wimmer': 1, 'Jay Roach': 1, 'Jim Gillespie': 1, 'Chuck Russell': 1, 'Betty Thomas': 1, 'Randall Wallace': 1, 'Ron Shelton': 1, 'Simon Wells': 1, 'Walter Hill': 2, 'John Woo': 3, 'Roger Michell': 1, 'Michael Apted': 1, 'Rob Bowman': 2, 'Tom Dey': 1, 'Joel Schumacher': 1, 'Luis Mandoki': 1, 'Tamra Davis': 1, 'Ron Underwood': 1, 'Kevin Bray': 1, 'Malcolm D. Lee': 1, 'MÃ¥ns MÃ¥rlind': 1, 'BjÃ¶rn Stein': 1, 'Tony Gilroy': 1, 'Mark Andrews': 1, 'Steve Purcell': 1, 'Brenda Chapman': 1, 'Ang Lee': 2, 'Len Wiseman': 4, 'Boaz Yakin': 1, 'Andrew Stanton': 1, 'Rian Johnson': 1, 'Mike McCoy': 1, 'Baltasar KormÃ¡kur': 2, 'Stephen St. Leger': 1, 'James Mather': 1, 'Daniel Espinosa': 1, 'Asger Leth': 1, 'Mabrouk El Mechri': 1, 'Dan Bradley': 1, 'Julie Anne Robinson': 1, 'Anthony Hemingway': 1, 'David Koepp': 1, 'David Barrett': 1, 'Mark Steven Johnson': 2, 'Stephen Norrington': 1, 'F. Gary Gray': 2, 'Jan de Bont': 1, 'Jon Amiel': 1, 'David Dobkin': 2, 'Clark Johnson': 2, 'Richard Donner': 2, 'John McTiernan': 1, 'William Friedkin': 2, 'Uwe Boll': 3, 'Shane Black': 1, 'Francis Lawrence': 2, 'David Twohy': 3, 'Tommy Wirkola': 1, 'Carl Rinsch': 1, 'Gary Fleder': 1, 'Mikael HÃ¥fstrÃ¶m': 1, 'Taylor Hackford': 1, 'Steven Knight': 1, 'Spike Lee': 1, 'Dito Montiel': 1, 'Keanu Reeves': 1, 'Courtney Solomon': 2, 'Fyodor Bondarchuk': 1, 'Karyn Kusama': 1, 'Adam Shankman': 1, 'John Stockwell': 1, 'Sydney Pollack': 1, 'Terry Gilliam': 1, 'Jay Chandrasekhar': 1, 'Richard Shepard': 1, 'John Dahl': 1, 'Bruce Hunt': 1, 'Alfonso CuarÃ³n': 1, 'Stefen Fangmeier': 1, 'Mel Gibson': 1, 'Bruce Beresford': 1, 'Wolfgang Petersen': 1, 'David R. Ellis': 2, 'Jeff Tremaine': 1, 'John Bonito': 1, 'Geoffrey Sax': 1, 'Tony Bill': 1, 'Wayne Kramer': 1, 'Sanjay Gadhvi': 1, 'Phil Joanou': 1, 'Alexander Witt': 1, 'David S. Goyer': 2, 'Bibo Bergeron': 1, 'Vicky Jenson': 1, 'Rob Letterman': 1, 'Kerry Conran': 1, 'Oliver Stone': 1, 'Jonathan Hensleigh': 1, 'Pitof': 1, 'Philip Kaufman': 1, 'Trey Parker': 1, 'Steven Brill': 1, 'Frank Coraci': 1, 'Paul Abascal': 1, 'Joseph Kahn': 1, 'David Mamet': 1, 'Jay Russell': 1, 'Robert Redford': 1, 'Philip G. Atwell': 1, 'Michael Davis': 1, 'Xavier Gens': 1, 'Eli Roth': 1, 'Rob Zombie': 1, 'Jason Eisener': 1, 'Dave Meyers': 1, 'Russell Mulcahy': 1, 'Andrew Dominik': 1, 'Doug Lefler': 1, 'David Leland': 1, 'Feng Xiaogang': 1, 'Ben Garant': 1, 'Joel Coen': 1, 'Donald Petrie': 1, 'Paul Verhoeven': 1, 'Roger Spottiswoode': 1, 'Antony Hoffman': 1, 'Stephen T. Kay': 1, 'Don Bluth': 1, 'Gary Goldman': 1, 'Christian Duguay': 1, 'Douglas Aarniokoski': 1, 'Gina Prince-Bythewood': 1, 'Brian Robbins': 1, 'Des McAnuff': 1}\n",
      "{'Robert Rodriguez': 9}\n"
     ]
    }
   ],
   "source": [
    "answers['14'] = 'Robert Rodriguez(9)'\n",
    "data = pd.read_csv('movie_bd_v5.xls')\n",
    "data['genres'] = data.genres.str.split('|')\n",
    "data['director'] = data.director.str.split('|')\n",
    "\n",
    "def searchDi() :\n",
    "    count = dict()\n",
    "    s = ''\n",
    "    s1 = ''\n",
    "    s2 = 'Action'\n",
    "    for i in range (len(data.genres)):\n",
    "        s1 = data.genres[i]\n",
    "        if s2 in s1: \n",
    "            for j in range (len(data.director[i])):\n",
    "                s = data.director[i][j]\n",
    "                if s in count:              \n",
    "                    count[s] = count[s] + 1              \n",
    "                else :\n",
    "                    count[s] = 1\n",
    "    print(count) \n",
    "    max_value = max(count.values())\n",
    "    final_dict = {k: v for k, v in count.items() if v == max_value}\n",
    "    print(final_dict) \n",
    "searchDi()"
   ]
  },
  {
   "cell_type": "markdown",
   "metadata": {
    "colab_type": "text",
    "id": "PQ0KciD7Vp_f"
   },
   "source": [
    "# 15. Фильмы с каким актером принесли самые высокие кассовые сборы в 2012 году? "
   ]
  },
  {
   "cell_type": "code",
   "execution_count": 27,
   "metadata": {
    "colab": {},
    "colab_type": "code",
    "id": "aga62oeKVp_g"
   },
   "outputs": [
    {
     "name": "stdout",
     "output_type": "stream",
     "text": [
      "{'Robert Downey Jr.': 1, 'Michael Ealy': 2, 'Kate Beckinsale': 3, 'Chris Hemsworth': 4, 'Bruce Willis': 5}\n",
      "{'Nicolas Cage': 2106557, 'Jason Bateman': 3428048, 'Josh Duhamel': 4636169, 'Sarah Gadon': 6063556, 'Timothy Spall': 8106475, 'Matt Damon': 8138788, 'Danielle Panabaker': 8493728, 'Garrett Hedlund': 8784318, 'Eva Longoria': 9622846, 'Ashley Greene': 9627492, 'Victoria Justice': 11417362, 'Mark Duplass': 12434778, 'Zoe Saldana': 13231461, 'Henry Cavill': 16863583, 'Kirsten Dunst': 16890793, 'Sam Rockwell': 19422261, 'Eddie Murphy': 22044277, 'Jennifer Aniston': 24159934, 'Whitney Houston': 24637469, 'Drew Barrymore': 24719215, 'Olivia Wilde': 25666239, 'Malin Ã…kerman': 26266491, 'Joaquin Phoenix': 28258060, 'John Cusack': 29657751, 'Tyler Perry': 30353232, 'Michael Shannon': 31083599, 'Joseph Gilgun': 32204030, 'Katy Perry': 32726956, 'John Krasinski': 32858003, 'Gina Carano': 33372606, 'Logan Lerman': 33400000, 'Richard Gere': 35485056, 'Katherine Heigl': 36893721, 'Brad Pitt': 37930465, 'Chris Sarandon': 40346186, 'Karl Urban': 41037742, 'Isabel Lucas': 44806783, 'Jamie Bell': 46221189, 'Blake Lively': 47000000, 'Paul Dano': 47042000, 'Jake Gyllenhaal': 48126384, 'Cuba Gooding Jr.': 50365377, 'Adelaide Clemens': 52302796, 'Shia LaBeouf': 53676580, 'Alison Brie': 53909751, 'Sean Hayes': 54819301, 'Eva Amurri Martino': 58058367, 'Diego Boneta': 59418613, 'Maggie Smith': 59520298, 'Ben Foster': 63100000, 'Kristen Connolly': 66486080, 'Jared Gilman': 68263166, 'Devon Bostick': 77112176, 'Joseph Gordon-Levitt': 78125599, 'Cameron Diaz': 79700000, 'Roselyn SÃ¡nchez': 81272766, 'Charlie Tahan': 81491068, 'Natasha Calis': 85446075, 'Leslie Mann': 88058786, 'Susan Sarandon': 93543423, 'Jerry Ferrara': 96070507, 'Oliver Cooper': 100000000, 'Emily Blunt': 100951751, 'Kodi Smit-McPhee': 107139399, 'Benjamin Walker': 112265139, 'Meryl Streep': 114281051, 'Skylar Astin': 115350426, 'Hugh Grant': 118338361, 'Billy Crystal': 119772232, 'Daniel Radcliffe': 127730736, 'Jeffrey Dean Morgan': 130252858, 'Tom Hanks': 130482868, 'Stephen Rea': 132400000, 'Jason Clarke': 132820716, 'Jim Sturgess': 138589343, 'Kathryn McCormick': 140470746, 'Jason Segel': 141968537, 'Katie Featherston': 142817992, 'Dane DeHaan': 145000000, 'Paul Rudd': 145618720, 'Salma Hayek': 165338361, 'Matthew McConaughey': 167221571, 'Sayed Badreya': 179379533, 'Naomi Watts': 180274123, 'Julia Roberts': 183018522, 'Jessica Chastain': 186497296, 'Chris Pratt': 186730467, 'Rachel McAdams': 196114570, 'Jessica Biel': 198802074, 'Jonah Hill': 201585328, 'Robert De Niro': 205738714, 'Denzel Washington': 208076205, 'Ewan McGregor': 213646729, 'Colin Farrell': 218224335, 'Richard Jenkins': 218340595, 'Bradley Cooper': 218970175, 'Michael Ealy': 228470507, 'Ben Affleck': 232324128, 'Jason Biggs': 234989584, 'Milla Jovovich': 240159255, 'Johnny Depp': 245527149, 'Michelle Pfeiffer': 257961927, 'Megan Fox': 267438319, 'David Oyelowo': 268705972, 'Jeremy Renner': 276572938, 'Tom Cruise': 277759208, 'Lynn Collins': 284139100, 'Edgar RamÃ\\xadrez': 301000000, 'Alexander SkarsgÃ¥rd': 303025485, 'Jude Law': 306941670, 'Sylvester Stallone': 312573423, 'Chris Pine': 319376448, 'Edward Norton': 344836104, 'Sam Worthington': 347221189, 'Zac Efron': 348840316, 'Anna Kendrick': 350316209, 'Jason Statham': 352919609, 'Dwayne Johnson': 355692760, 'Brendan Gleeson': 356072317, 'Steve Buscemi': 358375603, 'Alec Baldwin': 366360283, 'Famke Janssen': 376141306, 'Brooklyn Decker': 382725485, 'Kate Beckinsale': 394302074, 'Sam Claflin': 396600000, 'Noomi Rapace': 403170142, 'Maggie Grace': 408345336, 'CiarÃ¡n Hinds': 411869836, 'Adam Sandler': 416433970, 'Mark Strong': 416959816, 'Jamie Foxx': 425368238, 'Michael Fassbender': 436542748, 'Russell Crowe': 441809770, 'Kerry Washington': 447412515, 'Bruce Willis': 449378341, 'John C. Reilly': 471222889, 'Guy Pearce': 489050752, 'Rosamund Pike': 519340595, 'Jane Lynch': 526042190, 'Kelly Macdonald': 538983207, 'Bryan Cranston': 540910192, 'Mila Kunis': 549368315, 'Channing Tatum': 598294075, 'Billy Connolly': 598503505, 'Suraj Sharma': 609016565, 'Mark Wahlberg': 612468315, 'Will Smith': 624026776, 'Taylor Kitsch': 634164585, 'Liam Neeson': 677141306, 'Liam Hemsworth': 691210692, 'Woody Harrelson': 710632953, 'Tommy Lee Jones': 738307827, 'Ben Stiller': 746921274, 'Hugh Jackman': 748751440, 'Andrew Garfield': 752215857, 'Frances McDormand': 755060062, 'Charlize Theron': 799770142, 'Rhys Ifans': 806125608, 'Taylor Lautner': 829000000, 'Elizabeth Banks': 829566659, 'Robert Pattinson': 835063556, 'Ray Romano': 877244782, 'Jennifer Lawrence': 896949406, 'John Leguizamo': 914138503, 'Ian McKellen': 1017003568, 'Christian Bale': 1081041287, 'Josh Hutcherson': 1091710235, 'Daniel Craig': 1108561013, 'Seann William Scott': 1112234366, 'Tom Hardy': 1134717867, 'Emma Thompson': 1163009983, 'Kristen Stewart': 1234384318, 'Sacha Baron Cohen': 1368110577, 'Ralph Fiennes': 1409561013, 'Robert Downey Jr.': 1519557910, 'Anne Hathaway': 1522851057, 'Denis Leary': 1629460639, 'Chris Hemsworth': 2027450773}\n",
      "{'Chris Hemsworth': 2027450773}\n"
     ]
    }
   ],
   "source": [
    "answers['15'] = 'Chris Hemsworth: 2027450773'\n",
    "data['cast'] = data.cast.str.split('|')\n",
    "def poiskCa () :\n",
    "    count = dict()\n",
    "    count2 = dict()\n",
    "    s = ''\n",
    "    d = 0\n",
    "    data4 = data.copy()\n",
    "    for i in range (len(data)):\n",
    "        if data.release_year[i] == 2012 :\n",
    "            for j in range (len(data.cast[i])) :\n",
    "                s = data.cast[i][j]\n",
    "                if s in count :\n",
    "                    count[s] = count[s] + 1\n",
    "                    count2[s] = count2[s] + data.revenue[i]\n",
    "                else :\n",
    "                    count[s] = 1\n",
    "                    count2[s] = data.revenue[i]\n",
    "    sorted_values = sorted(count.values()) # Sort the values\n",
    "    sorted_dict = {}\n",
    "\n",
    "    for l in sorted_values:\n",
    "        for k in count.keys():\n",
    "            if count[k] == l:\n",
    "                sorted_dict[k] = count[k]\n",
    "                break                \n",
    "    print(sorted_dict)            \n",
    "    #print(len(count)) \n",
    "    #print(count)\n",
    "    sorted_values2 = sorted(count2.values()) # Sort the values\n",
    "    sorted_dict2 = {}\n",
    "\n",
    "    for l in sorted_values2:\n",
    "        for k in count2.keys():\n",
    "            if count2[k] == l:\n",
    "                sorted_dict2[k] = count2[k]\n",
    "                break                \n",
    "    print(sorted_dict2) \n",
    "    max_value = max(sorted_dict2.values())\n",
    "    final_dict = {k: v for k, v in sorted_dict2.items() if v == max_value}\n",
    "    print(final_dict)          \n",
    "poiskCa ()       "
   ]
  },
  {
   "cell_type": "markdown",
   "metadata": {
    "colab_type": "text",
    "id": "mWHyyL7QVp_j"
   },
   "source": [
    "# 16. Какой актер снялся в большем количестве высокобюджетных фильмов?"
   ]
  },
  {
   "cell_type": "code",
   "execution_count": 74,
   "metadata": {
    "colab": {},
    "colab_type": "code",
    "id": "qQtmHKTFVp_k"
   },
   "outputs": [
    {
     "name": "stdout",
     "output_type": "stream",
     "text": [
      "{\"Vincent D'Onofrio\": 1, 'Chris Pratt': 2, 'Bryce Dallas Howard': 3, 'Tom Hardy': 4, 'Michelle Rodriguez': 5, 'Kate Winslet': 6, 'Harrison Ford': 7, 'Charlize Theron': 8, 'Ralph Fiennes': 9, 'Vin Diesel': 10, 'Leonardo DiCaprio': 11, 'Dwayne Johnson': 12, 'Johnny Depp': 13, 'Mark Wahlberg': 14, 'Tom Cruise': 15, 'Angelina Jolie': 16, 'Adam Sandler': 17, 'Matt Damon': 18}\n",
      "{'Matt Damon': 18}\n"
     ]
    }
   ],
   "source": [
    "answers['16'] = 'Matt Damon: 18'\n",
    "data = pd.read_csv('movie_bd_v5.xls')\n",
    "data['cast'] = data.cast.str.split('|')\n",
    "def poiskCast () :\n",
    "    count = dict()\n",
    "    s = ''\n",
    "    d = data.budget.mean()\n",
    "    for i in range (len(data)):\n",
    "        if (data.budget[i] > d) :\n",
    "            for j in range (len(data.cast[i])) :\n",
    "                s = data.cast[i][j]\n",
    "                if s in count :\n",
    "                    count[s] = count[s] + 1\n",
    "                    \n",
    "                else :\n",
    "                    count[s] = 1\n",
    "                    \n",
    "    sorted_values = sorted(count.values()) # Sort the values\n",
    "    sorted_dict = {}\n",
    "\n",
    "    for l in sorted_values:\n",
    "        for k in count.keys():\n",
    "            if count[k] == l:\n",
    "                sorted_dict[k] = count[k]\n",
    "                break                \n",
    "    print(sorted_dict)            \n",
    "    #print(len(count)) \n",
    "    #print(count)\n",
    "    max_value = max(sorted_dict.values())\n",
    "    final_dict = {k: v for k, v in sorted_dict.items() if v == max_value}\n",
    "    print(final_dict)         \n",
    "poiskCast ()               "
   ]
  },
  {
   "cell_type": "markdown",
   "metadata": {
    "colab_type": "text",
    "id": "NIh6AaW5Vp_n"
   },
   "source": [
    "# 17. В фильмах какого жанра больше всего снимался Nicolas Cage? "
   ]
  },
  {
   "cell_type": "code",
   "execution_count": 57,
   "metadata": {
    "colab": {},
    "colab_type": "code",
    "id": "H74SJDIBVp_n"
   },
   "outputs": [
    {
     "name": "stdout",
     "output_type": "stream",
     "text": [
      "{'Thriller': 15, 'Action': 17, 'Science Fiction': 4, 'Adventure': 7, 'Drama': 12, 'Mystery': 3, 'Crime': 10, 'Animation': 3, 'Family': 3, 'Fantasy': 8, 'Comedy': 6, 'History': 2, 'War': 1, 'Horror': 1, 'Romance': 1}\n",
      "{'Action': 17}\n"
     ]
    }
   ],
   "source": [
    "answers['17'] = 'Action:= 17 '\n",
    "data = pd.read_csv('movie_bd_v5.xls')\n",
    "data['cast'] = data.cast.str.split('|')\n",
    "data['genres'] = data.genres.str.split('|')\n",
    "def poiskCast () :\n",
    "    count = dict()\n",
    "    count2 = dict()\n",
    "    s = ''\n",
    "    s2 = ''\n",
    "    s1 = 'Nicolas Cage'\n",
    "    for i in range (len(data)):\n",
    "        s = data.cast[i]\n",
    "        if s1 in s :\n",
    "            for j in range (len(data.genres[i])) :\n",
    "                s2 = data.genres[i][j]\n",
    "                if s2 in count :\n",
    "                    count[s2] = count[s2] + 1\n",
    "                else :\n",
    "                    count[s2] = 1\n",
    "                \n",
    "    print(count)                    \n",
    "    max_value = max(count.values())\n",
    "    final_dict = {k: v for k, v in count.items() if v == max_value}\n",
    "    print(final_dict) \n",
    "poiskCast ()         "
   ]
  },
  {
   "cell_type": "markdown",
   "metadata": {
    "colab_type": "text",
    "id": "RqOmPRfWVp_q"
   },
   "source": [
    "# 18. Самый убыточный фильм от Paramount Pictures"
   ]
  },
  {
   "cell_type": "code",
   "execution_count": 30,
   "metadata": {
    "colab": {},
    "colab_type": "code",
    "id": "9E_B0Y96Vp_r"
   },
   "outputs": [
    {
     "name": "stdout",
     "output_type": "stream",
     "text": [
      "{54: -64831034, 71: -60519261, 115: -51788987, 105: -46604061, 107: -24805000, 33: -20750706, 38: -20180936, 62: -17955723, 23: -15809131, 58: -14280643, 110: -14000000, 59: -12069815, 102: -12041304, 88: -10730514, 80: -9695999, 12: -9450893, 85: -7517225, 98: -6600039, 55: -5117355, 82: -4965111, 63: -2582638, 32: 3069884, 90: 4252847, 86: 6442528, 49: 7312826, 31: 8222729, 45: 10939027, 121: 11000000, 106: 12000000, 56: 12793283, 13: 14171130, 69: 14208267, 46: 15247881, 44: 15770160, 104: 16105964, 24: 17387857, 108: 18907422, 113: 19785914, 4: 20248241, 65: 20726956, 95: 21779000, 26: 26976270, 89: 27028752, 27: 32780981, 112: 34696996, 9: 35500000, 72: 36269812, 30: 37498534, 92: 38715192, 51: 39660784, 29: 45178561, 84: 46669806, 83: 47374674, 93: 48197993, 57: 49141030, 53: 49935764, 109: 50631118, 15: 55258983, 52: 59282312, 79: 61175291, 120: 61196498, 68: 61505388, 97: 61778712, 111: 65560026, 5: 68099553, 101: 69073645, 37: 72839667, 50: 83846072, 96: 84937680, 67: 96282949, 114: 97760134, 94: 99945894, 1: 105346506, 87: 108320568, 103: 110161792, 43: 110724603, 99: 112042871, 61: 114379533, 66: 116070171, 40: 122780440, 78: 123649015, 116: 125735876, 70: 127371441, 16: 127469017, 28: 135388341, 77: 136831537, 64: 137817992, 18: 138670000, 10: 143400000, 36: 145764026, 100: 152764291, 60: 158340595, 25: 159703340, 22: 168502923, 76: 174803475, 35: 183932083, 3: 190360392, 48: 200703818, 42: 210095987, 21: 210650585, 20: 214276927, 19: 214804195, 14: 235680446, 6: 237594032, 11: 237637473, 41: 241940071, 91: 247850012, 74: 277365246, 0: 285603537, 73: 292000694, 119: 304111707, 75: 331865000, 8: 352200000, 118: 421388105, 7: 456752480, 81: 459739379, 2: 532330139, 39: 549713380, 117: 559709780, 34: 601636033, 17: 686297228, 47: 928746996}\n",
      "{54: -64831034}\n"
     ]
    },
    {
     "data": {
      "text/html": [
       "<div>\n",
       "<style scoped>\n",
       "    .dataframe tbody tr th:only-of-type {\n",
       "        vertical-align: middle;\n",
       "    }\n",
       "\n",
       "    .dataframe tbody tr th {\n",
       "        vertical-align: top;\n",
       "    }\n",
       "\n",
       "    .dataframe thead th {\n",
       "        text-align: right;\n",
       "    }\n",
       "</style>\n",
       "<table border=\"1\" class=\"dataframe\">\n",
       "  <thead>\n",
       "    <tr style=\"text-align: right;\">\n",
       "      <th></th>\n",
       "      <th>imdb_id</th>\n",
       "      <th>budget</th>\n",
       "      <th>revenue</th>\n",
       "      <th>original_title</th>\n",
       "      <th>cast</th>\n",
       "      <th>director</th>\n",
       "      <th>tagline</th>\n",
       "      <th>overview</th>\n",
       "      <th>runtime</th>\n",
       "      <th>genres</th>\n",
       "      <th>production_companies</th>\n",
       "      <th>release_date</th>\n",
       "      <th>vote_average</th>\n",
       "      <th>release_year</th>\n",
       "      <th>profit</th>\n",
       "    </tr>\n",
       "  </thead>\n",
       "  <tbody>\n",
       "    <tr>\n",
       "      <th>925</th>\n",
       "      <td>tt0267626</td>\n",
       "      <td>100000000</td>\n",
       "      <td>35168966</td>\n",
       "      <td>K-19: The Widowmaker</td>\n",
       "      <td>[Harrison Ford, Liam Neeson, Peter Sarsgaard, ...</td>\n",
       "      <td>Kathryn Bigelow</td>\n",
       "      <td>Fate has found its hero.</td>\n",
       "      <td>When Russia's first nuclear submarine malfunct...</td>\n",
       "      <td>138</td>\n",
       "      <td>[Thriller, Drama, History]</td>\n",
       "      <td>[Paramount Pictures, Intermedia Films, Nationa...</td>\n",
       "      <td>7/19/2002</td>\n",
       "      <td>6.0</td>\n",
       "      <td>2002</td>\n",
       "      <td>-64831034</td>\n",
       "    </tr>\n",
       "  </tbody>\n",
       "</table>\n",
       "</div>"
      ],
      "text/plain": [
       "       imdb_id     budget   revenue        original_title  \\\n",
       "925  tt0267626  100000000  35168966  K-19: The Widowmaker   \n",
       "\n",
       "                                                  cast         director  \\\n",
       "925  [Harrison Ford, Liam Neeson, Peter Sarsgaard, ...  Kathryn Bigelow   \n",
       "\n",
       "                      tagline  \\\n",
       "925  Fate has found its hero.   \n",
       "\n",
       "                                              overview  runtime  \\\n",
       "925  When Russia's first nuclear submarine malfunct...      138   \n",
       "\n",
       "                         genres  \\\n",
       "925  [Thriller, Drama, History]   \n",
       "\n",
       "                                  production_companies release_date  \\\n",
       "925  [Paramount Pictures, Intermedia Films, Nationa...    7/19/2002   \n",
       "\n",
       "     vote_average  release_year    profit  \n",
       "925           6.0          2002 -64831034  "
      ]
     },
     "execution_count": 30,
     "metadata": {},
     "output_type": "execute_result"
    }
   ],
   "source": [
    "answers['18'] = 'K-19: The Widowmaker(-64831034)'\n",
    "data = pd.read_csv('movie_bd_v5.xls')\n",
    "data['cast'] = data.cast.str.split('|')\n",
    "data['genres'] = data.genres.str.split('|')\n",
    "data['production_companies'] = data.production_companies.str.split('|')\n",
    "data['profit'] = data.revenue - data.budget\n",
    "def poiskCast () :\n",
    "    count = dict()\n",
    "    count2 = dict()\n",
    "    s = ''\n",
    "    s1 = ''\n",
    "    s2 = ''\n",
    "    s3 = ''\n",
    "    str = ''\n",
    "    d = data.profit.min()\n",
    "    m = 0\n",
    "    n = 0\n",
    "    for i in range (len(data)):\n",
    "        for j in range (len(data.production_companies[i])) :\n",
    "            if 'Paramount Pictures' == data['production_companies'][i][j] :     \n",
    "                s = data.production_companies[i][j]\n",
    "                n = (data.profit[i])\n",
    "                \n",
    "                s2 = data.original_title[i]\n",
    "                \n",
    "                count[m] = n\n",
    "                m += 1\n",
    "    #print(len(count)) \n",
    "    #print(count)\n",
    "    sorted_values2 = sorted(count.values()) # Sort the values\n",
    "    sorted_dict2 = {}\n",
    "\n",
    "    for l in sorted_values2:\n",
    "        for k in count.keys():\n",
    "            if count[k] == l:\n",
    "                sorted_dict2[k] = count[k]\n",
    "                break                \n",
    "    print(sorted_dict2) \n",
    "    min_value = min(sorted_dict2.values())\n",
    "    final_dict = {k: v for k, v in sorted_dict2.items() if v == min_value}\n",
    "    print(final_dict)           \n",
    "poiskCast ()         \n",
    "data.query('profit in [\"-64831034\"]')"
   ]
  },
  {
   "cell_type": "markdown",
   "metadata": {
    "colab_type": "text",
    "id": "vS8Ur6ddVp_u"
   },
   "source": [
    "# 19. Какой год стал самым успешным по суммарным кассовым сборам?"
   ]
  },
  {
   "cell_type": "code",
   "execution_count": 31,
   "metadata": {
    "colab": {},
    "colab_type": "code",
    "id": "Dnbt4GdIVp_v"
   },
   "outputs": [
    {
     "data": {
      "text/plain": [
       "release_year\n",
       "2000    10664099805\n",
       "2001    13017764865\n",
       "2002    14136361487\n",
       "2003    14346123312\n",
       "2004    15663430720\n",
       "2005    15309425558\n",
       "2006    14775042320\n",
       "2007    18162406801\n",
       "2008    18252781990\n",
       "2009    20261791024\n",
       "2010    21071204961\n",
       "2011    22676791872\n",
       "2012    23079001687\n",
       "2013    23213799791\n",
       "2014    23405862953\n",
       "2015    25449202382\n",
       "Name: revenue, dtype: int64"
      ]
     },
     "metadata": {},
     "output_type": "display_data"
    }
   ],
   "source": [
    "answers['19'] = '2015'\n",
    "data.groupby(['release_year'])\n",
    "d = data.groupby(['release_year'])['revenue'].sum()\n",
    "display(d)"
   ]
  },
  {
   "cell_type": "markdown",
   "metadata": {
    "colab_type": "text",
    "id": "JAzJh4QAVp_z"
   },
   "source": [
    "# 20. Какой самый прибыльный год для студии Warner Bros?"
   ]
  },
  {
   "cell_type": "code",
   "execution_count": 60,
   "metadata": {
    "colab": {},
    "colab_type": "code",
    "id": "wgVu02DEVp_0"
   },
   "outputs": [
    {
     "name": "stdout",
     "output_type": "stream",
     "text": [
      "{2006: -32714831, 2001: -14306109, 2000: -11627590, 2003: -11485156, 2005: -9775758, 2012: -7372508, 2002: -7258268, 2010: -5098661, 2014: -2514873, 2011: 5735397, 2004: 6546197, 2008: 7739015, 2007: 22771059, 2013: 55020213, 2009: 62233971, 2015: 66511453}\n",
      "{2015: 66511453}\n"
     ]
    }
   ],
   "source": [
    "answers['20'] = '2015'\n",
    "data = pd.read_csv('movie_bd_v5.xls')\n",
    "data['cast'] = data.cast.str.split('|')\n",
    "data['genres'] = data.genres.str.split('|')\n",
    "data['production_companies'] = data.production_companies.str.split('|')\n",
    "data['profit'] = data.revenue - data.budget\n",
    "def poiskCast () :\n",
    "    count = dict()\n",
    "    d = ''\n",
    "    n = 0\n",
    "    s = 'Warner Bros.'\n",
    "    s1 = ''\n",
    "    for i in range (len(data)):\n",
    "        s1 = data.production_companies[i]\n",
    "        if s in s1 :\n",
    "            d = data.release_year[i]\n",
    "            if d in count:\n",
    "                \n",
    "                count[d] = data.profit[i]\n",
    "            \n",
    "            else :\n",
    "                count[d] = data.profit[i] \n",
    "               \n",
    "    #print(len(count)) \n",
    "    #print(count)\n",
    "    sorted_values2 = sorted(count.values()) # Sort the values\n",
    "    sorted_dict2 = {}\n",
    "\n",
    "    for l in sorted_values2:\n",
    "        for k in count.keys():\n",
    "            if count[k] == l:\n",
    "                sorted_dict2[k] = count[k]\n",
    "                break                \n",
    "    print(sorted_dict2) \n",
    "\n",
    "    \n",
    "    max_value = max(sorted_dict2.values())\n",
    "    final_dict = {k: v for k, v in sorted_dict2.items() if v == max_value}\n",
    "    print(final_dict)               \n",
    "poiskCast ()                "
   ]
  },
  {
   "cell_type": "markdown",
   "metadata": {
    "colab_type": "text",
    "id": "8Im1S2HRVp_4"
   },
   "source": [
    "# 21. В каком месяце за все годы суммарно вышло больше всего фильмов?"
   ]
  },
  {
   "cell_type": "code",
   "execution_count": 33,
   "metadata": {
    "colab": {},
    "colab_type": "code",
    "id": "lev6TH7gVp_4"
   },
   "outputs": [
    {
     "name": "stdout",
     "output_type": "stream",
     "text": [
      "{'1': 110, '2': 135, '5': 140, '7': 142, '11': 146, '6': 147, '4': 149, '3': 156, '8': 161, '10': 186, '12': 190, '9': 227}\n",
      "{'9': 227}\n"
     ]
    }
   ],
   "source": [
    "answers['21'] = '9 - Сентябрь'\n",
    "data = pd.read_csv('movie_bd_v5.xls')\n",
    "data['cast'] = data.cast.str.split('|')\n",
    "data['genres'] = data.genres.str.split('|')\n",
    "data['release_date'] = data.release_date.str.split('/')\n",
    "data['production_companies'] = data.production_companies.str.split('|')\n",
    "data['profit'] = data.revenue - data.budget\n",
    "def poiskCast () :\n",
    "    count = dict()\n",
    "    count2 = dict()\n",
    "    d = 0\n",
    "    for i in range (len(data)):                \n",
    "        d = data.release_date[i][0]\n",
    "        if d in count:\n",
    "            count[d] = count[d] + 1\n",
    "        else :\n",
    "            count[d] = 1\n",
    "                \n",
    "    \n",
    "                \n",
    "    #print(len(count)) \n",
    "    #print(count)\n",
    "    sorted_values2 = sorted(count.values()) # Sort the values\n",
    "    sorted_dict2 = {}\n",
    "\n",
    "    for l in sorted_values2:\n",
    "        for k in count.keys():\n",
    "            if count[k] == l:\n",
    "                sorted_dict2[k] = count[k]\n",
    "                break                \n",
    "    print(sorted_dict2) \n",
    "    max_value = max(sorted_dict2.values())\n",
    "    final_dict = {k: v for k, v in sorted_dict2.items() if v == max_value}\n",
    "    print(final_dict)           \n",
    "poiskCast ()        "
   ]
  },
  {
   "cell_type": "markdown",
   "metadata": {
    "colab_type": "text",
    "id": "uAJsZ_NeVp_7"
   },
   "source": [
    "# 22. Сколько суммарно вышло фильмов летом? (за июнь, июль, август)"
   ]
  },
  {
   "cell_type": "code",
   "execution_count": 34,
   "metadata": {
    "colab": {},
    "colab_type": "code",
    "id": "Aa-hEREoVp_8"
   },
   "outputs": [
    {
     "name": "stdout",
     "output_type": "stream",
     "text": [
      "450\n",
      "{'7': 142, '6': 147, '8': 161}\n"
     ]
    }
   ],
   "source": [
    "answers['22'] = '450'\n",
    "data = pd.read_csv('movie_bd_v5.xls')\n",
    "data['cast'] = data.cast.str.split('|')\n",
    "data['genres'] = data.genres.str.split('|')\n",
    "data['release_date'] = data.release_date.str.split('/')\n",
    "data['production_companies'] = data.production_companies.str.split('|')\n",
    "data['profit'] = data.revenue - data.budget\n",
    "def poiskCast () :\n",
    "    count = dict()\n",
    "    count2 = dict()\n",
    "    s = ''\n",
    "    s1 = ''\n",
    "    s2 = ''\n",
    "    s3 = ''\n",
    "    str = ''\n",
    "    d = 0\n",
    "    m = 0\n",
    "    n = 0\n",
    "    for i in range (len(data)):        \n",
    "        #for j in range (len(data.release_date[i])) :          \n",
    "        d = data.release_date[i][0]\n",
    "        if (d == '6' or d == '7' or d == '8'):\n",
    "            if d in count:                    \n",
    "                count[d] = count[d] + 1\n",
    "            else :\n",
    "                count[d] = 1\n",
    "                \n",
    "    s = count['6'] + count['7'] + count['8']\n",
    "    print(s)            \n",
    "    #print(len(count)) \n",
    "    #print(count)\n",
    "    sorted_values2 = sorted(count.values()) # Sort the values\n",
    "    sorted_dict2 = {}\n",
    "\n",
    "    for l in sorted_values2:\n",
    "        for k in count.keys():\n",
    "            if count[k] == l:\n",
    "                sorted_dict2[k] = count[k]\n",
    "                break                \n",
    "    print(sorted_dict2)          \n",
    "poiskCast ()       "
   ]
  },
  {
   "cell_type": "markdown",
   "metadata": {
    "colab_type": "text",
    "id": "G94ppOY1VqAA"
   },
   "source": [
    "# 23. Для какого режиссера зима – самое продуктивное время года? "
   ]
  },
  {
   "cell_type": "code",
   "execution_count": 56,
   "metadata": {
    "colab": {},
    "colab_type": "code",
    "id": "RhNTsamuVqAB"
   },
   "outputs": [
    {
     "name": "stdout",
     "output_type": "stream",
     "text": [
      "{'J.J. Abrams': 1, 'Quentin Tarantino': 2, 'Ridley Scott': 3, 'Shawn Levy': 4, 'Clint Eastwood': 6, 'Peter Jackson': 7}\n",
      "{'Peter Jackson': 7}\n"
     ]
    }
   ],
   "source": [
    "answers['23'] = 'Peter Jackson : 7'\n",
    "data = pd.read_csv('movie_bd_v5.xls')\n",
    "data['cast'] = data.cast.str.split('|')\n",
    "data['genres'] = data.genres.str.split('|')\n",
    "data['release_date'] = data.release_date.str.split('/')\n",
    "data['production_companies'] = data.production_companies.str.split('|')\n",
    "def poiskCast () :\n",
    "    count = dict()\n",
    "    s = ''\n",
    "    s1 = ''\n",
    "    s2 = ''\n",
    "    s3 = ''    \n",
    "    d = ''\n",
    "    for i in range (len(data)):        \n",
    "        d = data.release_date[i][0]\n",
    "        if d == '1' or d == '2' or d == '12':\n",
    "            s1 = data.director[i]\n",
    "            if s1 in count:\n",
    "                    count[s1] = count[s1] + 1\n",
    "            else:\n",
    "                    count[s1] = 1\n",
    "                       \n",
    "    #print(len(count)) \n",
    "    #print(count)\n",
    "    sorted_values2 = sorted(count.values()) # Sort the values\n",
    "    sorted_dict2 = {}\n",
    "\n",
    "    for l in sorted_values2:\n",
    "        for k in count.keys():\n",
    "            if count[k] == l:\n",
    "                sorted_dict2[k] = count[k]\n",
    "                break                \n",
    "    print(sorted_dict2)  \n",
    "    max_value = max(sorted_dict2.values())\n",
    "    final_dict = {k: v for k, v in sorted_dict2.items() if v == max_value}\n",
    "    print(final_dict)\n",
    "poiskCast ()       "
   ]
  },
  {
   "cell_type": "markdown",
   "metadata": {
    "colab_type": "text",
    "id": "RBo0JVjVVqAF"
   },
   "source": [
    "# 24. Какая студия дает самые длинные названия своим фильмам по количеству символов?"
   ]
  },
  {
   "cell_type": "code",
   "execution_count": 69,
   "metadata": {
    "colab": {},
    "colab_type": "code",
    "id": "QRGS8L0iVqAG"
   },
   "outputs": [
    {
     "name": "stdout",
     "output_type": "stream",
     "text": [
      "15.03705664372684\n",
      "{'Kennedy Miller Productions': 1, 'FilmColony': 2, 'Revolution Sun Studios': 3, 'Lucasfilm': 4, 'Skydance Productions': 5, 'Marvel Studios': 6, 'Temple Hill Entertainment': 7, 'Focus Features': 8, 'TSG Entertainment': 9, 'BBC Films': 10, 'Spyglass Entertainment': 11, 'Legendary Pictures': 12, 'Metro-Goldwyn-Mayer (MGM)': 13, 'The Weinstein Company': 14, 'Screen Gems': 15, 'Fox 2000 Pictures': 16, 'Lionsgate': 17, 'Touchstone Pictures': 19, 'Dune Entertainment': 22, 'Village Roadshow Pictures': 24, 'DreamWorks SKG': 29, 'Relativity Media': 34, 'Walt Disney Pictures': 41, 'New Line Cinema': 45, 'Columbia Pictures': 50, 'Twentieth Century Fox Film Corporation': 52, 'Paramount Pictures': 61, 'Warner Bros.': 68, 'Universal Pictures': 77}\n"
     ]
    }
   ],
   "source": [
    "answers['24'] = 'Universal Pictures: 77'\n",
    "data = pd.read_csv('movie_bd_v5.xls')\n",
    "data['cast'] = data.cast.str.split('|')\n",
    "data['genres'] = data.genres.str.split('|')\n",
    "data['release_date'] = data.release_date.str.split('/')\n",
    "data['production_companies'] = data.production_companies.str.split('|')\n",
    "data['profit'] = data.revenue - data.budget\n",
    "data['lenfilm'] = data.original_title\n",
    "def film(name):\n",
    "# Ваш код ниже\n",
    "    \n",
    "    return len(name)\n",
    "          \n",
    "data['lenfilm'] = data.original_title.apply(film)\n",
    "\n",
    "       \n",
    "def poiskCast () :\n",
    "    count = dict()\n",
    "    count2 = dict()\n",
    "    s = ''\n",
    "    s1 = ''\n",
    "    n = 0\n",
    "    print(data.lenfilm.mean()) \n",
    "    for i in range (len(data)) :  \n",
    "        if data.lenfilm[i] >= math.trunc(data.lenfilm.mean()):\n",
    "            for j in range (len(data.production_companies[i])) :          \n",
    "                s = data.production_companies[i][j] \n",
    "            \n",
    "                if s in count:\n",
    "                    count[s] = count[s] + 1              \n",
    "                else :\n",
    "                    count[s] = 1\n",
    "             \n",
    "    #print(len(count)) \n",
    "    #print(count)\n",
    "    #print(count[s])\n",
    "    sorted_values2 = sorted(count.values()) # Sort the values\n",
    "    sorted_dict2 = {}\n",
    "\n",
    "    for l in sorted_values2:\n",
    "        for k in count.keys():\n",
    "            if count[k] == l:\n",
    "                sorted_dict2[k] = count[k]\n",
    "                break                \n",
    "    print(sorted_dict2)          \n",
    "poiskCast ()       "
   ]
  },
  {
   "cell_type": "markdown",
   "metadata": {
    "colab_type": "text",
    "id": "9G0hbvR7VqAK"
   },
   "source": [
    "# 25. Описание фильмов какой студии в среднем самые длинные по количеству слов?"
   ]
  },
  {
   "cell_type": "code",
   "execution_count": 68,
   "metadata": {
    "colab": {},
    "colab_type": "code",
    "id": "Ge2GsLNxVqAK"
   },
   "outputs": [
    {
     "name": "stdout",
     "output_type": "stream",
     "text": [
      "49\n",
      "{'Babieka': 1, 'Pixar Animation Studios': 2, 'Metro-Goldwyn-Mayer (MGM)': 3, 'Alcon Entertainment': 4, 'Lakeshore Entertainment': 5, 'MTV Films': 6, 'Columbia Pictures': 8, 'Relativity Media': 9, 'Warner Bros.': 10, 'New Line Cinema': 11, 'Walt Disney Pictures': 13, 'Universal Pictures': 14}\n"
     ]
    }
   ],
   "source": [
    "answers['25'] = 'Universal Pictures: 14'\n",
    "data = pd.read_csv('movie_bd_v5.xls')\n",
    "data['cast'] = data.cast.str.split('|')\n",
    "data['genres'] = data.genres.str.split('|')\n",
    "data['release_date'] = data.release_date.str.split('/')\n",
    "data['production_companies'] = data.production_companies.str.split('|')\n",
    "data['profit'] = data.revenue - data.budget\n",
    "data['lentagline'] = data.tagline\n",
    "def film(name):\n",
    "    \n",
    "    return (len(name.split()))\n",
    "          \n",
    "data['lentagline'] = data.tagline.apply(film)\n",
    "       \n",
    "def poiskCast () :\n",
    "    count = dict()\n",
    "    s = ''\n",
    "    n = 0\n",
    "    print(data.lentagline.max())               \n",
    "    for i in range (len(data)) :  \n",
    "        if data.lentagline[i] == math.trunc(data.lentagline.mean()):\n",
    "            for j in range (len(data.production_companies[i])) :          \n",
    "                s = data.production_companies[i][j] \n",
    "            \n",
    "                if s in count:\n",
    "                    count[s] = count[s] + 1              \n",
    "                else :\n",
    "                    count[s] = 1\n",
    "            \n",
    "             \n",
    "    #print(len(count)) \n",
    "    #print(count)\n",
    "    #print(count[s])\n",
    "    sorted_values2 = sorted(count.values()) # Sort the values\n",
    "    sorted_dict2 = {}\n",
    "\n",
    "    for l in sorted_values2:\n",
    "        for k in count.keys():\n",
    "            if count[k] == l:\n",
    "                sorted_dict2[k] = count[k]\n",
    "                break                \n",
    "    print(sorted_dict2)          \n",
    "poiskCast ()             "
   ]
  },
  {
   "cell_type": "markdown",
   "metadata": {
    "colab_type": "text",
    "id": "FJ1AFt90VqAP"
   },
   "source": [
    "# 26. Какие фильмы входят в 1 процент лучших по рейтингу? \n",
    "по vote_average"
   ]
  },
  {
   "cell_type": "code",
   "execution_count": 38,
   "metadata": {
    "colab": {},
    "colab_type": "code",
    "id": "8qmJVq4CVqAQ"
   },
   "outputs": [
    {
     "data": {
      "text/plain": [
       "9                                          Inside Out\n",
       "34                                               Room\n",
       "118                                      Interstellar\n",
       "119                           Guardians of the Galaxy\n",
       "125                                The Imitation Game\n",
       "128                                         Gone Girl\n",
       "138                          The Grand Budapest Hotel\n",
       "370                                         Inception\n",
       "599                                   The Dark Knight\n",
       "872                                       The Pianist\n",
       "1081    The Lord of the Rings: The Return of the King\n",
       "1183                          The Wolf of Wall Street\n",
       "1191                                 12 Years a Slave\n",
       "1800                                          Memento\n",
       "Name: original_title, dtype: object"
      ]
     },
     "execution_count": 38,
     "metadata": {},
     "output_type": "execute_result"
    }
   ],
   "source": [
    "answers['26'] = 'The Dark Knight,12 Years a Slave,Inside Out'\n",
    "data[(data.vote_average >= data.vote_average.max()*0.97)].original_title"
   ]
  },
  {
   "cell_type": "markdown",
   "metadata": {
    "colab_type": "text",
    "id": "MdXsUXbCVqAV"
   },
   "source": [
    "# 27. Какие актеры чаще всего снимаются в одном фильме вместе?\n"
   ]
  },
  {
   "cell_type": "markdown",
   "metadata": {
    "colab_type": "text",
    "id": "4ymnxEVoVqAW"
   },
   "source": [
    "ВАРИАНТ 2"
   ]
  },
  {
   "cell_type": "code",
   "execution_count": 40,
   "metadata": {},
   "outputs": [
    {
     "name": "stdout",
     "output_type": "stream",
     "text": [
      "{('Chris Pratt', 'Bryce Dallas Howard'): 1, ('Shailene Woodley', 'Theo James'): 2, ('Vin Diesel', 'Paul Walker'): 3, ('Jennifer Lawrence', 'Josh Hutcherson'): 4, ('Adam Sandler', 'Kevin James'): 5, ('Ben Stiller', 'Owen Wilson'): 6, ('Rupert Grint', 'Emma Watson'): 7, ('Daniel Radcliffe', 'Rupert Grint'): 8}\n"
     ]
    }
   ],
   "source": [
    "answers['27'] = 'Daniel Radcliffe,Rupert Grint,8'\n",
    "data = pd.read_csv('movie_bd_v5.xls')\n",
    "data['cast'] = data.cast.str.split('|')\n",
    "    \n",
    "def poiskCast () :\n",
    "    count = dict()\n",
    "    s = ''\n",
    "    s1 = ''\n",
    "    \n",
    "    for i in range (len(data)):\n",
    "        if (len(data.cast[i]) >= 2):        \n",
    "            #for j in range (len(data.cast[i])) :          \n",
    "            #s = data.production_companies[i][j] \n",
    "            #print(data.cast[i])\n",
    "            #print(list(itertools.combinations(data.cast[i],2)))\n",
    "            #print('')\n",
    "            #if s in count:\n",
    "            s = list(itertools.combinations(data.cast[i],2))\n",
    "            for j in range (len(s)):\n",
    "                s1 = s[j]\n",
    "                if s1 in count:              \n",
    "                    count[s1] = count[s1] + 1              \n",
    "                else :\n",
    "                    count[s1] = 1\n",
    "            \n",
    "    sorted_values2 = sorted(count.values()) # Sort the values\n",
    "    sorted_dict2 = {}\n",
    "\n",
    "    for l in sorted_values2:\n",
    "        for k in count.keys():\n",
    "            if count[k] == l:\n",
    "                sorted_dict2[k] = count[k]\n",
    "                break                \n",
    "    print(sorted_dict2)          \n",
    "poiskCast ()       "
   ]
  },
  {
   "cell_type": "markdown",
   "metadata": {
    "colab_type": "text",
    "id": "U0nONFnGVqAX"
   },
   "source": [
    "# Submission"
   ]
  },
  {
   "cell_type": "code",
   "execution_count": 70,
   "metadata": {
    "colab": {},
    "colab_type": "code",
    "id": "IfcaRO9-VqAX",
    "outputId": "0f132912-32bb-4196-c98c-abfbc4ad5a5f"
   },
   "outputs": [
    {
     "data": {
      "text/plain": [
       "{'1': '723. Pirates of the Caribbean: On Stranger Tides (tt1298650)(380000000)',\n",
       " '2': '1157. Gods and Generals (tt0279111)(214)',\n",
       " '3': '768. Winnie the Pooh (tt1449283)(63)',\n",
       " '4': '109.6585494970884',\n",
       " '5': '107.0',\n",
       " '6': '239. Avatar (tt0499549)(2544505847)',\n",
       " '7': '1245. The Lone Ranger (tt1210819)(-165710090)',\n",
       " '8': '1478',\n",
       " '9': '599.The Dark Knight(tt0468569)',\n",
       " '10': '1245.The Lone Ranger(tt1210819)',\n",
       " '11': 'Drama(782)',\n",
       " '12': 'Drama(560)',\n",
       " '13': 'Peter Jackson(6490593685)',\n",
       " '14': 'Robert Rodriguez(9)',\n",
       " '15': 'Chris Hemsworth: 2027450773',\n",
       " '16': 'Matt Damon: 18',\n",
       " '17': 'Action:= 17 ',\n",
       " '18': 'K-19: The Widowmaker(-64831034)',\n",
       " '19': '2015',\n",
       " '20': '2015',\n",
       " '21': '9 - Сентябрь',\n",
       " '22': '450',\n",
       " '23': 'Peter Jackson : 7',\n",
       " '24': 'Universal Pictures: 77',\n",
       " '25': 'Universal Pictures: 14',\n",
       " '26': 'The Dark Knight,12 Years a Slave,Inside Out',\n",
       " '27': 'Daniel Radcliffe,Rupert Grint,8'}"
      ]
     },
     "execution_count": 70,
     "metadata": {},
     "output_type": "execute_result"
    }
   ],
   "source": [
    "# в конце можно посмотреть свои ответы к каждому вопросу\n",
    "answers"
   ]
  },
  {
   "cell_type": "code",
   "execution_count": 71,
   "metadata": {
    "colab": {},
    "colab_type": "code",
    "id": "SiRmHPl8VqAd"
   },
   "outputs": [
    {
     "data": {
      "text/plain": [
       "27"
      ]
     },
     "execution_count": 71,
     "metadata": {},
     "output_type": "execute_result"
    }
   ],
   "source": [
    "# и убедиться что ни чего не пропустил)\n",
    "len(answers)"
   ]
  },
  {
   "cell_type": "code",
   "execution_count": 0,
   "metadata": {
    "colab": {},
    "colab_type": "code",
    "id": "uCfuTkRbVqAg"
   },
   "outputs": [],
   "source": []
  },
  {
   "cell_type": "code",
   "execution_count": 0,
   "metadata": {
    "colab": {},
    "colab_type": "code",
    "id": "Vwx3NrkSVqAl"
   },
   "outputs": [],
   "source": []
  }
 ],
 "metadata": {
  "colab": {
   "name": "Copy of [SF-DST] Movies IMBD v4.1 TEMPLATE.ipynb",
   "provenance": []
  },
  "kernelspec": {
   "display_name": "Python 3",
   "language": "python",
   "name": "python3"
  },
  "language_info": {
   "codemirror_mode": {
    "name": "ipython",
    "version": 3
   },
   "file_extension": ".py",
   "mimetype": "text/x-python",
   "name": "python",
   "nbconvert_exporter": "python",
   "pygments_lexer": "ipython3",
   "version": "3.6.5"
  }
 },
 "nbformat": 4,
 "nbformat_minor": 1
}
